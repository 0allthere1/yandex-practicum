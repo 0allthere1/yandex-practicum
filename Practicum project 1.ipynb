{
 "cells": [
  {
   "cell_type": "markdown",
   "metadata": {},
   "source": [
    "<div style=\"border:solid green 2px; padding: 20px\">\n",
    "<b>Hello, Chris!</b>\n",
    "\n",
    "My name is Grigoriy and I'm going to review your project.\n",
    "\n",
    "My main goal is not to show that any mistakes have been made somewhere, but to share my experience that will help you in your further work. Further in the file you can see my comments, try to take them into account when performing the next tasks. **Please, don't delete them.**\n",
    "\n",
    "\n",
    "You can find my comments in <font color='green'>green</font>, <font color='blue'>blue</font> or <font color='orange'>orange</font> boxes like this:\n",
    "\n",
    "<div class=\"alert alert-success\">\n",
    "<b>Success:</b> if everything is done succesfully\n",
    "</div>\n",
    "\n",
    "<div class=\"alert alert-warning\">\n",
    "<b>Remarks: </b> if I can give some recommendations\n",
    "</div>\n",
    "\n",
    "<div class=\"alert alert-danger\">\n",
    "<b>Needs fixing:</b> if the block requires some corrections. Work can't be accepted with the red comments.\n",
    "</div>\n",
    "\n",
    "    \n",
    "Let's work on the project in dialogue: if you change something in the project or respond to my comments, write about it. It will be easier for me to track the changes if you highlight your comments:\n",
    "    \n",
    "<div class=\"alert alert-info\"> <b>Student comment:</b> For example like this.</div>"
   ]
  },
  {
   "cell_type": "markdown",
   "metadata": {},
   "source": [
    "### <font color='orange'>General feedback</font>\n",
    "Thank you for sending your project. You've done a really good job on it!  \n",
    "I especially liked your work with data functions. Also, there are some comments to help you to improve your project. It doesn't mean that you did something wrong. These comments can help you to further develop your skills.\n",
    "Your project has passed code-review. Congratulations!\n"
   ]
  },
  {
   "cell_type": "markdown",
   "metadata": {},
   "source": [
    "## Analyzing borrowers’ risk of defaulting\n",
    "\n",
    "Your project is to prepare a report for a bank’s loan division. You’ll need to find out if a customer’s marital status and number of children has an impact on whether they will default on a loan. The bank already has some data on customers’ credit worthiness.\n",
    "\n",
    "Your report will be considered when building a **credit scoring** of a potential customer. A ** credit scoring ** is used to evaluate the ability of a potential borrower to repay their loan."
   ]
  },
  {
   "cell_type": "markdown",
   "metadata": {},
   "source": [
    "<div class=\"alert alert-warning\">\n",
    "<b>Remarks: </b> It is good practice to add a table of contents to your project. This will allow you not to forget some of its stages and makes a story from your research. <br>\n",
    "You can find more information here: <a>https://www.notion.so/Project-Presentation-6a8a6e28090b499b9037c48a96ae37c7</a>    \n",
    "    \n",
    "</div>"
   ]
  },
  {
   "cell_type": "markdown",
   "metadata": {},
   "source": [
    "### Step 1. Open the data file and have a look at the general information. "
   ]
  },
  {
   "cell_type": "code",
   "execution_count": 1,
   "metadata": {
    "scrolled": true
   },
   "outputs": [
    {
     "name": "stdout",
     "output_type": "stream",
     "text": [
      "<class 'pandas.core.frame.DataFrame'>\n",
      "RangeIndex: 21525 entries, 0 to 21524\n",
      "Data columns (total 12 columns):\n",
      "children            21525 non-null int64\n",
      "days_employed       19351 non-null float64\n",
      "dob_years           21525 non-null int64\n",
      "education           21525 non-null object\n",
      "education_id        21525 non-null int64\n",
      "family_status       21525 non-null object\n",
      "family_status_id    21525 non-null int64\n",
      "gender              21525 non-null object\n",
      "income_type         21525 non-null object\n",
      "debt                21525 non-null int64\n",
      "total_income        19351 non-null float64\n",
      "purpose             21525 non-null object\n",
      "dtypes: float64(2), int64(5), object(5)\n",
      "memory usage: 2.0+ MB\n"
     ]
    },
    {
     "data": {
      "text/html": [
       "<div>\n",
       "<style scoped>\n",
       "    .dataframe tbody tr th:only-of-type {\n",
       "        vertical-align: middle;\n",
       "    }\n",
       "\n",
       "    .dataframe tbody tr th {\n",
       "        vertical-align: top;\n",
       "    }\n",
       "\n",
       "    .dataframe thead th {\n",
       "        text-align: right;\n",
       "    }\n",
       "</style>\n",
       "<table border=\"1\" class=\"dataframe\">\n",
       "  <thead>\n",
       "    <tr style=\"text-align: right;\">\n",
       "      <th></th>\n",
       "      <th>children</th>\n",
       "      <th>days_employed</th>\n",
       "      <th>dob_years</th>\n",
       "      <th>education</th>\n",
       "      <th>education_id</th>\n",
       "      <th>family_status</th>\n",
       "      <th>family_status_id</th>\n",
       "      <th>gender</th>\n",
       "      <th>income_type</th>\n",
       "      <th>debt</th>\n",
       "      <th>total_income</th>\n",
       "      <th>purpose</th>\n",
       "    </tr>\n",
       "  </thead>\n",
       "  <tbody>\n",
       "    <tr>\n",
       "      <td>0</td>\n",
       "      <td>1</td>\n",
       "      <td>-8437.673028</td>\n",
       "      <td>42</td>\n",
       "      <td>bachelor's degree</td>\n",
       "      <td>0</td>\n",
       "      <td>married</td>\n",
       "      <td>0</td>\n",
       "      <td>F</td>\n",
       "      <td>employee</td>\n",
       "      <td>0</td>\n",
       "      <td>40620.102</td>\n",
       "      <td>purchase of the house</td>\n",
       "    </tr>\n",
       "    <tr>\n",
       "      <td>1</td>\n",
       "      <td>1</td>\n",
       "      <td>-4024.803754</td>\n",
       "      <td>36</td>\n",
       "      <td>secondary education</td>\n",
       "      <td>1</td>\n",
       "      <td>married</td>\n",
       "      <td>0</td>\n",
       "      <td>F</td>\n",
       "      <td>employee</td>\n",
       "      <td>0</td>\n",
       "      <td>17932.802</td>\n",
       "      <td>car purchase</td>\n",
       "    </tr>\n",
       "    <tr>\n",
       "      <td>2</td>\n",
       "      <td>0</td>\n",
       "      <td>-5623.422610</td>\n",
       "      <td>33</td>\n",
       "      <td>Secondary Education</td>\n",
       "      <td>1</td>\n",
       "      <td>married</td>\n",
       "      <td>0</td>\n",
       "      <td>M</td>\n",
       "      <td>employee</td>\n",
       "      <td>0</td>\n",
       "      <td>23341.752</td>\n",
       "      <td>purchase of the house</td>\n",
       "    </tr>\n",
       "    <tr>\n",
       "      <td>3</td>\n",
       "      <td>3</td>\n",
       "      <td>-4124.747207</td>\n",
       "      <td>32</td>\n",
       "      <td>secondary education</td>\n",
       "      <td>1</td>\n",
       "      <td>married</td>\n",
       "      <td>0</td>\n",
       "      <td>M</td>\n",
       "      <td>employee</td>\n",
       "      <td>0</td>\n",
       "      <td>42820.568</td>\n",
       "      <td>supplementary education</td>\n",
       "    </tr>\n",
       "    <tr>\n",
       "      <td>4</td>\n",
       "      <td>0</td>\n",
       "      <td>340266.072047</td>\n",
       "      <td>53</td>\n",
       "      <td>secondary education</td>\n",
       "      <td>1</td>\n",
       "      <td>civil partnership</td>\n",
       "      <td>1</td>\n",
       "      <td>F</td>\n",
       "      <td>retiree</td>\n",
       "      <td>0</td>\n",
       "      <td>25378.572</td>\n",
       "      <td>to have a wedding</td>\n",
       "    </tr>\n",
       "    <tr>\n",
       "      <td>...</td>\n",
       "      <td>...</td>\n",
       "      <td>...</td>\n",
       "      <td>...</td>\n",
       "      <td>...</td>\n",
       "      <td>...</td>\n",
       "      <td>...</td>\n",
       "      <td>...</td>\n",
       "      <td>...</td>\n",
       "      <td>...</td>\n",
       "      <td>...</td>\n",
       "      <td>...</td>\n",
       "      <td>...</td>\n",
       "    </tr>\n",
       "    <tr>\n",
       "      <td>21520</td>\n",
       "      <td>1</td>\n",
       "      <td>-4529.316663</td>\n",
       "      <td>43</td>\n",
       "      <td>secondary education</td>\n",
       "      <td>1</td>\n",
       "      <td>civil partnership</td>\n",
       "      <td>1</td>\n",
       "      <td>F</td>\n",
       "      <td>business</td>\n",
       "      <td>0</td>\n",
       "      <td>35966.698</td>\n",
       "      <td>housing transactions</td>\n",
       "    </tr>\n",
       "    <tr>\n",
       "      <td>21521</td>\n",
       "      <td>0</td>\n",
       "      <td>343937.404131</td>\n",
       "      <td>67</td>\n",
       "      <td>secondary education</td>\n",
       "      <td>1</td>\n",
       "      <td>married</td>\n",
       "      <td>0</td>\n",
       "      <td>F</td>\n",
       "      <td>retiree</td>\n",
       "      <td>0</td>\n",
       "      <td>24959.969</td>\n",
       "      <td>purchase of a car</td>\n",
       "    </tr>\n",
       "    <tr>\n",
       "      <td>21522</td>\n",
       "      <td>1</td>\n",
       "      <td>-2113.346888</td>\n",
       "      <td>38</td>\n",
       "      <td>secondary education</td>\n",
       "      <td>1</td>\n",
       "      <td>civil partnership</td>\n",
       "      <td>1</td>\n",
       "      <td>M</td>\n",
       "      <td>employee</td>\n",
       "      <td>1</td>\n",
       "      <td>14347.610</td>\n",
       "      <td>property</td>\n",
       "    </tr>\n",
       "    <tr>\n",
       "      <td>21523</td>\n",
       "      <td>3</td>\n",
       "      <td>-3112.481705</td>\n",
       "      <td>38</td>\n",
       "      <td>secondary education</td>\n",
       "      <td>1</td>\n",
       "      <td>married</td>\n",
       "      <td>0</td>\n",
       "      <td>M</td>\n",
       "      <td>employee</td>\n",
       "      <td>1</td>\n",
       "      <td>39054.888</td>\n",
       "      <td>buying my own car</td>\n",
       "    </tr>\n",
       "    <tr>\n",
       "      <td>21524</td>\n",
       "      <td>2</td>\n",
       "      <td>-1984.507589</td>\n",
       "      <td>40</td>\n",
       "      <td>secondary education</td>\n",
       "      <td>1</td>\n",
       "      <td>married</td>\n",
       "      <td>0</td>\n",
       "      <td>F</td>\n",
       "      <td>employee</td>\n",
       "      <td>0</td>\n",
       "      <td>13127.587</td>\n",
       "      <td>to buy a car</td>\n",
       "    </tr>\n",
       "  </tbody>\n",
       "</table>\n",
       "<p>21525 rows × 12 columns</p>\n",
       "</div>"
      ],
      "text/plain": [
       "       children  days_employed  dob_years            education  education_id  \\\n",
       "0             1   -8437.673028         42    bachelor's degree             0   \n",
       "1             1   -4024.803754         36  secondary education             1   \n",
       "2             0   -5623.422610         33  Secondary Education             1   \n",
       "3             3   -4124.747207         32  secondary education             1   \n",
       "4             0  340266.072047         53  secondary education             1   \n",
       "...         ...            ...        ...                  ...           ...   \n",
       "21520         1   -4529.316663         43  secondary education             1   \n",
       "21521         0  343937.404131         67  secondary education             1   \n",
       "21522         1   -2113.346888         38  secondary education             1   \n",
       "21523         3   -3112.481705         38  secondary education             1   \n",
       "21524         2   -1984.507589         40  secondary education             1   \n",
       "\n",
       "           family_status  family_status_id gender income_type  debt  \\\n",
       "0                married                 0      F    employee     0   \n",
       "1                married                 0      F    employee     0   \n",
       "2                married                 0      M    employee     0   \n",
       "3                married                 0      M    employee     0   \n",
       "4      civil partnership                 1      F     retiree     0   \n",
       "...                  ...               ...    ...         ...   ...   \n",
       "21520  civil partnership                 1      F    business     0   \n",
       "21521            married                 0      F     retiree     0   \n",
       "21522  civil partnership                 1      M    employee     1   \n",
       "21523            married                 0      M    employee     1   \n",
       "21524            married                 0      F    employee     0   \n",
       "\n",
       "       total_income                  purpose  \n",
       "0         40620.102    purchase of the house  \n",
       "1         17932.802             car purchase  \n",
       "2         23341.752    purchase of the house  \n",
       "3         42820.568  supplementary education  \n",
       "4         25378.572        to have a wedding  \n",
       "...             ...                      ...  \n",
       "21520     35966.698     housing transactions  \n",
       "21521     24959.969        purchase of a car  \n",
       "21522     14347.610                 property  \n",
       "21523     39054.888        buying my own car  \n",
       "21524     13127.587             to buy a car  \n",
       "\n",
       "[21525 rows x 12 columns]"
      ]
     },
     "execution_count": 1,
     "metadata": {},
     "output_type": "execute_result"
    }
   ],
   "source": [
    "import pandas as pd #imports the pandas library as function 'pd' so we can process data\n",
    "from nltk.stem import SnowballStemmer #imports the nltk.stem library so we can process cells according to\n",
    "#individual words using their stems\n",
    "english_stemmer = SnowballStemmer('english') #makes the stemmer work with the english language and it will\n",
    "#be used as 'english_stemmer'\n",
    "data = pd.read_csv('/datasets/credit_scoring_eng.csv') #reads the the 'credit_scoring_eng.csv' file, makes\n",
    "#it a DataFrame and saves it to the 'data' variable \n",
    "data.info(null_counts=True, verbose=True) #displays the general information of the DataFrame\n",
    "data #displays the first five and last five rows "
   ]
  },
  {
   "cell_type": "markdown",
   "metadata": {},
   "source": [
    "<div class=\"alert alert-warning\">\n",
    "<b>Remarks: </b> Very good that you provide so detailed comments to your code! This habit would help you and your furute co-workers. How you can improve your code:\n",
    " <ul>\n",
    "  <li>It's a good practice to store your import is a separate cell. This is very useful for a code mantaining</li>\n",
    "  <li>I highly recommend you to format your panads dataframes inputs with head(), tail() or sample(). Different versions of the jupyter notebooks handle with raw dataframes differently. Sometimes this can cause freezes.</li>\n",
    "</ul>     \n",
    "</div>"
   ]
  },
  {
   "cell_type": "markdown",
   "metadata": {},
   "source": [
    "We can hereby see that there are 21525 rows for each of the 12 columns, but some missing values in the 'total_income' and 'days_employed' columns. When we look at the table itself, we also see that the 'days_employed' column has negative values"
   ]
  },
  {
   "cell_type": "markdown",
   "metadata": {},
   "source": [
    "#### Value Counts for all columns"
   ]
  },
  {
   "cell_type": "code",
   "execution_count": 2,
   "metadata": {},
   "outputs": [
    {
     "data": {
      "text/plain": [
       "secondary education    13750\n",
       "bachelor's degree       4718\n",
       "SECONDARY EDUCATION      772\n",
       "Secondary Education      711\n",
       "some college             668\n",
       "BACHELOR'S DEGREE        274\n",
       "Bachelor's Degree        268\n",
       "primary education        250\n",
       "Some College              47\n",
       "SOME COLLEGE              29\n",
       "PRIMARY EDUCATION         17\n",
       "Primary Education         15\n",
       "graduate degree            4\n",
       "Graduate Degree            1\n",
       "GRADUATE DEGREE            1\n",
       "Name: education, dtype: int64"
      ]
     },
     "execution_count": 2,
     "metadata": {},
     "output_type": "execute_result"
    }
   ],
   "source": [
    "data['education'].value_counts() #displays all the values the column has and their frequency for the\n",
    "#education column"
   ]
  },
  {
   "cell_type": "markdown",
   "metadata": {},
   "source": [
    "We have duplicate values in both uppercase and lowercase"
   ]
  },
  {
   "cell_type": "code",
   "execution_count": 3,
   "metadata": {},
   "outputs": [
    {
     "data": {
      "text/plain": [
       "married              12380\n",
       "civil partnership     4177\n",
       "unmarried             2813\n",
       "divorced              1195\n",
       "widow / widower        960\n",
       "Name: family_status, dtype: int64"
      ]
     },
     "execution_count": 3,
     "metadata": {},
     "output_type": "execute_result"
    }
   ],
   "source": [
    "data['family_status'].value_counts() #displays all the values the column has and their frequency for the\n",
    "#'family_status' column"
   ]
  },
  {
   "cell_type": "markdown",
   "metadata": {},
   "source": [
    "We will also change the name of this column into 'marital_status' and 'family_status_id' into 'marital_status_id'"
   ]
  },
  {
   "cell_type": "code",
   "execution_count": 4,
   "metadata": {},
   "outputs": [
    {
     "data": {
      "text/plain": [
       "0    19784\n",
       "1     1741\n",
       "Name: debt, dtype: int64"
      ]
     },
     "execution_count": 4,
     "metadata": {},
     "output_type": "execute_result"
    }
   ],
   "source": [
    "data['debt'].value_counts() #displays all the values the column has and their frequency for the\n",
    "#'debt' column"
   ]
  },
  {
   "cell_type": "markdown",
   "metadata": {},
   "source": [
    "The values are 0 (paid on time) and 1 (defaulted)"
   ]
  },
  {
   "cell_type": "code",
   "execution_count": 5,
   "metadata": {},
   "outputs": [
    {
     "data": {
      "text/plain": [
       "wedding ceremony                            797\n",
       "having a wedding                            777\n",
       "to have a wedding                           774\n",
       "real estate transactions                    676\n",
       "buy commercial real estate                  664\n",
       "housing transactions                        653\n",
       "buying property for renting out             653\n",
       "transactions with commercial real estate    651\n",
       "purchase of the house                       647\n",
       "housing                                     647\n",
       "purchase of the house for my family         641\n",
       "construction of own property                635\n",
       "property                                    634\n",
       "transactions with my real estate            630\n",
       "building a real estate                      626\n",
       "buy real estate                             624\n",
       "purchase of my own house                    620\n",
       "building a property                         620\n",
       "housing renovation                          612\n",
       "buy residential real estate                 607\n",
       "buying my own car                           505\n",
       "going to university                         496\n",
       "car                                         495\n",
       "second-hand car purchase                    489\n",
       "to own a car                                480\n",
       "buying a second-hand car                    479\n",
       "cars                                        478\n",
       "to buy a car                                472\n",
       "supplementary education                     462\n",
       "car purchase                                462\n",
       "purchase of a car                           455\n",
       "university education                        453\n",
       "education                                   447\n",
       "to get a supplementary education            447\n",
       "getting an education                        443\n",
       "profile education                           436\n",
       "getting higher education                    426\n",
       "to become educated                          412\n",
       "Name: purpose, dtype: int64"
      ]
     },
     "execution_count": 5,
     "metadata": {},
     "output_type": "execute_result"
    }
   ],
   "source": [
    "data['purpose'].value_counts() #displays all the values the column has and their frequency for the\n",
    "#'purpose' column"
   ]
  },
  {
   "cell_type": "markdown",
   "metadata": {},
   "source": [
    "When we look closely at the values in this column, they fall under 4 categories: real estate, car purchase, wedding, and education."
   ]
  },
  {
   "cell_type": "markdown",
   "metadata": {},
   "source": [
    "### Conclusion"
   ]
  },
  {
   "cell_type": "markdown",
   "metadata": {},
   "source": [
    "We need to do something about the missing values in the 'total_income' and 'days_employed' columns. The values in the 'total_income' column are floats. We will get rid of the decimal places. We need to remove the duplicate values in the 'education' column. We need to create a separate table so we can define the meaning of the values in the 'debt' column. We also need to put the purposes into 4 categories: real estate, car purchase, wedding, and education."
   ]
  },
  {
   "cell_type": "markdown",
   "metadata": {},
   "source": [
    "<div class=\"alert alert-success\">\n",
    "<b>Success:</b> Good plan! \n",
    "</div>"
   ]
  },
  {
   "cell_type": "markdown",
   "metadata": {},
   "source": [
    "### Step 2. Data preprocessing"
   ]
  },
  {
   "cell_type": "markdown",
   "metadata": {},
   "source": [
    "### Processing missing values"
   ]
  },
  {
   "cell_type": "markdown",
   "metadata": {},
   "source": [
    "Let us take a look at the places in the table where we have missing values"
   ]
  },
  {
   "cell_type": "code",
   "execution_count": 6,
   "metadata": {
    "scrolled": true
   },
   "outputs": [
    {
     "data": {
      "text/html": [
       "<div>\n",
       "<style scoped>\n",
       "    .dataframe tbody tr th:only-of-type {\n",
       "        vertical-align: middle;\n",
       "    }\n",
       "\n",
       "    .dataframe tbody tr th {\n",
       "        vertical-align: top;\n",
       "    }\n",
       "\n",
       "    .dataframe thead th {\n",
       "        text-align: right;\n",
       "    }\n",
       "</style>\n",
       "<table border=\"1\" class=\"dataframe\">\n",
       "  <thead>\n",
       "    <tr style=\"text-align: right;\">\n",
       "      <th></th>\n",
       "      <th>children</th>\n",
       "      <th>days_employed</th>\n",
       "      <th>dob_years</th>\n",
       "      <th>education</th>\n",
       "      <th>education_id</th>\n",
       "      <th>family_status</th>\n",
       "      <th>family_status_id</th>\n",
       "      <th>gender</th>\n",
       "      <th>income_type</th>\n",
       "      <th>debt</th>\n",
       "      <th>total_income</th>\n",
       "      <th>purpose</th>\n",
       "    </tr>\n",
       "  </thead>\n",
       "  <tbody>\n",
       "    <tr>\n",
       "      <td>12</td>\n",
       "      <td>0</td>\n",
       "      <td>NaN</td>\n",
       "      <td>65</td>\n",
       "      <td>secondary education</td>\n",
       "      <td>1</td>\n",
       "      <td>civil partnership</td>\n",
       "      <td>1</td>\n",
       "      <td>M</td>\n",
       "      <td>retiree</td>\n",
       "      <td>0</td>\n",
       "      <td>NaN</td>\n",
       "      <td>to have a wedding</td>\n",
       "    </tr>\n",
       "    <tr>\n",
       "      <td>26</td>\n",
       "      <td>0</td>\n",
       "      <td>NaN</td>\n",
       "      <td>41</td>\n",
       "      <td>secondary education</td>\n",
       "      <td>1</td>\n",
       "      <td>married</td>\n",
       "      <td>0</td>\n",
       "      <td>M</td>\n",
       "      <td>civil servant</td>\n",
       "      <td>0</td>\n",
       "      <td>NaN</td>\n",
       "      <td>education</td>\n",
       "    </tr>\n",
       "    <tr>\n",
       "      <td>29</td>\n",
       "      <td>0</td>\n",
       "      <td>NaN</td>\n",
       "      <td>63</td>\n",
       "      <td>secondary education</td>\n",
       "      <td>1</td>\n",
       "      <td>unmarried</td>\n",
       "      <td>4</td>\n",
       "      <td>F</td>\n",
       "      <td>retiree</td>\n",
       "      <td>0</td>\n",
       "      <td>NaN</td>\n",
       "      <td>building a real estate</td>\n",
       "    </tr>\n",
       "    <tr>\n",
       "      <td>41</td>\n",
       "      <td>0</td>\n",
       "      <td>NaN</td>\n",
       "      <td>50</td>\n",
       "      <td>secondary education</td>\n",
       "      <td>1</td>\n",
       "      <td>married</td>\n",
       "      <td>0</td>\n",
       "      <td>F</td>\n",
       "      <td>civil servant</td>\n",
       "      <td>0</td>\n",
       "      <td>NaN</td>\n",
       "      <td>second-hand car purchase</td>\n",
       "    </tr>\n",
       "    <tr>\n",
       "      <td>55</td>\n",
       "      <td>0</td>\n",
       "      <td>NaN</td>\n",
       "      <td>54</td>\n",
       "      <td>secondary education</td>\n",
       "      <td>1</td>\n",
       "      <td>civil partnership</td>\n",
       "      <td>1</td>\n",
       "      <td>F</td>\n",
       "      <td>retiree</td>\n",
       "      <td>1</td>\n",
       "      <td>NaN</td>\n",
       "      <td>to have a wedding</td>\n",
       "    </tr>\n",
       "    <tr>\n",
       "      <td>...</td>\n",
       "      <td>...</td>\n",
       "      <td>...</td>\n",
       "      <td>...</td>\n",
       "      <td>...</td>\n",
       "      <td>...</td>\n",
       "      <td>...</td>\n",
       "      <td>...</td>\n",
       "      <td>...</td>\n",
       "      <td>...</td>\n",
       "      <td>...</td>\n",
       "      <td>...</td>\n",
       "      <td>...</td>\n",
       "    </tr>\n",
       "    <tr>\n",
       "      <td>21489</td>\n",
       "      <td>2</td>\n",
       "      <td>NaN</td>\n",
       "      <td>47</td>\n",
       "      <td>Secondary Education</td>\n",
       "      <td>1</td>\n",
       "      <td>married</td>\n",
       "      <td>0</td>\n",
       "      <td>M</td>\n",
       "      <td>business</td>\n",
       "      <td>0</td>\n",
       "      <td>NaN</td>\n",
       "      <td>purchase of a car</td>\n",
       "    </tr>\n",
       "    <tr>\n",
       "      <td>21495</td>\n",
       "      <td>1</td>\n",
       "      <td>NaN</td>\n",
       "      <td>50</td>\n",
       "      <td>secondary education</td>\n",
       "      <td>1</td>\n",
       "      <td>civil partnership</td>\n",
       "      <td>1</td>\n",
       "      <td>F</td>\n",
       "      <td>employee</td>\n",
       "      <td>0</td>\n",
       "      <td>NaN</td>\n",
       "      <td>wedding ceremony</td>\n",
       "    </tr>\n",
       "    <tr>\n",
       "      <td>21497</td>\n",
       "      <td>0</td>\n",
       "      <td>NaN</td>\n",
       "      <td>48</td>\n",
       "      <td>BACHELOR'S DEGREE</td>\n",
       "      <td>0</td>\n",
       "      <td>married</td>\n",
       "      <td>0</td>\n",
       "      <td>F</td>\n",
       "      <td>business</td>\n",
       "      <td>0</td>\n",
       "      <td>NaN</td>\n",
       "      <td>building a property</td>\n",
       "    </tr>\n",
       "    <tr>\n",
       "      <td>21502</td>\n",
       "      <td>1</td>\n",
       "      <td>NaN</td>\n",
       "      <td>42</td>\n",
       "      <td>secondary education</td>\n",
       "      <td>1</td>\n",
       "      <td>married</td>\n",
       "      <td>0</td>\n",
       "      <td>F</td>\n",
       "      <td>employee</td>\n",
       "      <td>0</td>\n",
       "      <td>NaN</td>\n",
       "      <td>building a real estate</td>\n",
       "    </tr>\n",
       "    <tr>\n",
       "      <td>21510</td>\n",
       "      <td>2</td>\n",
       "      <td>NaN</td>\n",
       "      <td>28</td>\n",
       "      <td>secondary education</td>\n",
       "      <td>1</td>\n",
       "      <td>married</td>\n",
       "      <td>0</td>\n",
       "      <td>F</td>\n",
       "      <td>employee</td>\n",
       "      <td>0</td>\n",
       "      <td>NaN</td>\n",
       "      <td>car purchase</td>\n",
       "    </tr>\n",
       "  </tbody>\n",
       "</table>\n",
       "<p>2174 rows × 12 columns</p>\n",
       "</div>"
      ],
      "text/plain": [
       "       children  days_employed  dob_years            education  education_id  \\\n",
       "12            0            NaN         65  secondary education             1   \n",
       "26            0            NaN         41  secondary education             1   \n",
       "29            0            NaN         63  secondary education             1   \n",
       "41            0            NaN         50  secondary education             1   \n",
       "55            0            NaN         54  secondary education             1   \n",
       "...         ...            ...        ...                  ...           ...   \n",
       "21489         2            NaN         47  Secondary Education             1   \n",
       "21495         1            NaN         50  secondary education             1   \n",
       "21497         0            NaN         48    BACHELOR'S DEGREE             0   \n",
       "21502         1            NaN         42  secondary education             1   \n",
       "21510         2            NaN         28  secondary education             1   \n",
       "\n",
       "           family_status  family_status_id gender    income_type  debt  \\\n",
       "12     civil partnership                 1      M        retiree     0   \n",
       "26               married                 0      M  civil servant     0   \n",
       "29             unmarried                 4      F        retiree     0   \n",
       "41               married                 0      F  civil servant     0   \n",
       "55     civil partnership                 1      F        retiree     1   \n",
       "...                  ...               ...    ...            ...   ...   \n",
       "21489            married                 0      M       business     0   \n",
       "21495  civil partnership                 1      F       employee     0   \n",
       "21497            married                 0      F       business     0   \n",
       "21502            married                 0      F       employee     0   \n",
       "21510            married                 0      F       employee     0   \n",
       "\n",
       "       total_income                   purpose  \n",
       "12              NaN         to have a wedding  \n",
       "26              NaN                 education  \n",
       "29              NaN    building a real estate  \n",
       "41              NaN  second-hand car purchase  \n",
       "55              NaN         to have a wedding  \n",
       "...             ...                       ...  \n",
       "21489           NaN         purchase of a car  \n",
       "21495           NaN          wedding ceremony  \n",
       "21497           NaN       building a property  \n",
       "21502           NaN    building a real estate  \n",
       "21510           NaN              car purchase  \n",
       "\n",
       "[2174 rows x 12 columns]"
      ]
     },
     "execution_count": 6,
     "metadata": {},
     "output_type": "execute_result"
    }
   ],
   "source": [
    "data[data.isna().any(axis=1)]#returns rows which have at least one cell missing a value"
   ]
  },
  {
   "cell_type": "markdown",
   "metadata": {},
   "source": [
    "<div class=\"alert alert-warning\">\n",
    "<b>Remarks: </b> Too much columns for visual analysis :) I think, <code>data.isna().sum()</code> would be more helpful here.\n",
    "</div>"
   ]
  },
  {
   "cell_type": "code",
   "execution_count": 8,
   "metadata": {},
   "outputs": [
    {
     "data": {
      "text/plain": [
       "children               0\n",
       "days_employed       2174\n",
       "dob_years              0\n",
       "education              0\n",
       "education_id           0\n",
       "family_status          0\n",
       "family_status_id       0\n",
       "gender                 0\n",
       "income_type            0\n",
       "debt                   0\n",
       "total_income        2174\n",
       "purpose                0\n",
       "dtype: int64"
      ]
     },
     "execution_count": 8,
     "metadata": {},
     "output_type": "execute_result"
    }
   ],
   "source": [
    "data.isna().sum()"
   ]
  },
  {
   "cell_type": "markdown",
   "metadata": {},
   "source": [
    "Our missing values show up as NaN (Not a Number) which means mathematical operations can be performed on them. They are probably here due to an error when copying the data, or another technical error. We first of all have to decide what to do with the 'days_employed' column. It has both missing values and negative values. Given that this column is not needed for future analysis, it is not worth fixing. So we can drop that column"
   ]
  },
  {
   "cell_type": "markdown",
   "metadata": {},
   "source": [
    "<div class=\"alert alert-success\">\n",
    "<b>Success:</b> Very good observation that 'days_employed' has unlogical negative values!\n",
    "</div>"
   ]
  },
  {
   "cell_type": "code",
   "execution_count": 9,
   "metadata": {},
   "outputs": [],
   "source": [
    "data.drop(columns = 'days_employed', errors='ignore', inplace=True)\n",
    "#deletes the 'days_employed' column, ignores all errors, and makes the change on the table without making\n",
    "#a copy"
   ]
  },
  {
   "cell_type": "code",
   "execution_count": 10,
   "metadata": {},
   "outputs": [
    {
     "name": "stdout",
     "output_type": "stream",
     "text": [
      "<class 'pandas.core.frame.DataFrame'>\n",
      "RangeIndex: 21525 entries, 0 to 21524\n",
      "Data columns (total 11 columns):\n",
      "children            21525 non-null int64\n",
      "dob_years           21525 non-null int64\n",
      "education           21525 non-null object\n",
      "education_id        21525 non-null int64\n",
      "family_status       21525 non-null object\n",
      "family_status_id    21525 non-null int64\n",
      "gender              21525 non-null object\n",
      "income_type         21525 non-null object\n",
      "debt                21525 non-null int64\n",
      "total_income        19351 non-null float64\n",
      "purpose             21525 non-null object\n",
      "dtypes: float64(1), int64(5), object(5)\n",
      "memory usage: 1.8+ MB\n"
     ]
    }
   ],
   "source": [
    "data.info(null_counts=True, verbose=True)"
   ]
  },
  {
   "cell_type": "markdown",
   "metadata": {},
   "source": [
    "Looking at the 'total_income' column, there is a little over 2000 missing values. That is a lot. So we won't delete those rows. We will fill them instead. The question is with which value? Two options: median or mean. To know which one to choose, let us take a look at the maximum and minimum values"
   ]
  },
  {
   "cell_type": "code",
   "execution_count": 11,
   "metadata": {},
   "outputs": [
    {
     "data": {
      "text/plain": [
       "362496.645"
      ]
     },
     "execution_count": 11,
     "metadata": {},
     "output_type": "execute_result"
    }
   ],
   "source": [
    "data['total_income'].max() #greatest value in the 'total_income' column"
   ]
  },
  {
   "cell_type": "code",
   "execution_count": 12,
   "metadata": {},
   "outputs": [
    {
     "data": {
      "text/plain": [
       "3306.762"
      ]
     },
     "execution_count": 12,
     "metadata": {},
     "output_type": "execute_result"
    }
   ],
   "source": [
    "data['total_income'].min() #lowest value in the total_income' column"
   ]
  },
  {
   "cell_type": "markdown",
   "metadata": {},
   "source": [
    "<div class=\"alert alert-warning\">\n",
    "<b>Remarks: </b> Snall hint: you can get all of this values from one function - describe(). <br>\n",
    "<code>data['total_income'].describe()</code>        \n",
    "</div>"
   ]
  },
  {
   "cell_type": "markdown",
   "metadata": {},
   "source": [
    "With a range of values this great, the right choice will be the median. Before getting the median, it is good to sort the values of the table (in this case, by the 'total_income'). Then we can replace the missing values with the median total income (data['total_income'].median())"
   ]
  },
  {
   "cell_type": "markdown",
   "metadata": {},
   "source": [
    "<div class=\"alert alert-success\">\n",
    "<b>Success:</b> You are right, here we need median or mode instead of mean. \n",
    "</div>"
   ]
  },
  {
   "cell_type": "markdown",
   "metadata": {},
   "source": [
    "<div class=\"alert alert-warning\">\n",
    "<b>Remarks: </b> Please, can you explain your sorting idea? Median values with and without sorting are the same:   \n",
    "</div>"
   ]
  },
  {
   "cell_type": "code",
   "execution_count": 26,
   "metadata": {},
   "outputs": [
    {
     "name": "stdout",
     "output_type": "stream",
     "text": [
      "With sort: 23202.87\n",
      "Without sort: 23202.87\n"
     ]
    }
   ],
   "source": [
    "print('With sort:', data.sort_values(by='total_income', ascending=False).median().loc['total_income'])\n",
    "print('Without sort:', data.median().loc['total_income'])"
   ]
  },
  {
   "cell_type": "code",
   "execution_count": 27,
   "metadata": {},
   "outputs": [
    {
     "name": "stdout",
     "output_type": "stream",
     "text": [
      "<class 'pandas.core.frame.DataFrame'>\n",
      "Int64Index: 21525 entries, 12412 to 21510\n",
      "Data columns (total 11 columns):\n",
      "children            21525 non-null int64\n",
      "dob_years           21525 non-null int64\n",
      "education           21525 non-null object\n",
      "education_id        21525 non-null int64\n",
      "family_status       21525 non-null object\n",
      "family_status_id    21525 non-null int64\n",
      "gender              21525 non-null object\n",
      "income_type         21525 non-null object\n",
      "debt                21525 non-null int64\n",
      "total_income        21525 non-null float64\n",
      "purpose             21525 non-null object\n",
      "dtypes: float64(1), int64(5), object(5)\n",
      "memory usage: 2.0+ MB\n"
     ]
    }
   ],
   "source": [
    "data = data.sort_values(by='total_income', ascending=False)\n",
    "#this sorts the rows of the table in descending order of the 'total_income'\n",
    "data['total_income'] = data['total_income'].fillna(data['total_income'].median())\n",
    "#this fills in the missing values (NaN) with the argument of the 'fillna' method, in this case, the median\n",
    "data.info(null_counts=True, verbose=True) #general info of the table after the changes"
   ]
  },
  {
   "cell_type": "markdown",
   "metadata": {},
   "source": [
    "No more missing values"
   ]
  },
  {
   "cell_type": "markdown",
   "metadata": {},
   "source": [
    "### Conclusion"
   ]
  },
  {
   "cell_type": "markdown",
   "metadata": {},
   "source": [
    "We dropped the 'days_employed' column because it had both missing and wrong values, and it is not needed for future analysis. We replaced the missing values in the 'total_income' column with the median value"
   ]
  },
  {
   "cell_type": "markdown",
   "metadata": {},
   "source": [
    "<div class=\"alert alert-success\">\n",
    "<b>Success:</b> 👍\n",
    "</div>"
   ]
  },
  {
   "cell_type": "markdown",
   "metadata": {},
   "source": [
    "### Data type replacement"
   ]
  },
  {
   "cell_type": "code",
   "execution_count": 29,
   "metadata": {},
   "outputs": [
    {
     "name": "stdout",
     "output_type": "stream",
     "text": [
      "<class 'pandas.core.frame.DataFrame'>\n",
      "Int64Index: 21525 entries, 12412 to 21510\n",
      "Data columns (total 11 columns):\n",
      "children            21525 non-null int64\n",
      "dob_years           21525 non-null int64\n",
      "education           21525 non-null object\n",
      "education_id        21525 non-null int64\n",
      "family_status       21525 non-null object\n",
      "family_status_id    21525 non-null int64\n",
      "gender              21525 non-null object\n",
      "income_type         21525 non-null object\n",
      "debt                21525 non-null int64\n",
      "total_income        21525 non-null float64\n",
      "purpose             21525 non-null object\n",
      "dtypes: float64(1), int64(5), object(5)\n",
      "memory usage: 2.0+ MB\n"
     ]
    }
   ],
   "source": [
    "data.info(null_counts=True, verbose=True) #general information about the DataFrame"
   ]
  },
  {
   "cell_type": "markdown",
   "metadata": {},
   "source": [
    "From the output above, we can see the 'total_income' column contains float values. When we were getting the max and min values earlier, they had 3 decimal places. Those decimal places are not needed so we will drop them by converting the values into integers."
   ]
  },
  {
   "cell_type": "code",
   "execution_count": 30,
   "metadata": {},
   "outputs": [
    {
     "data": {
      "text/plain": [
       "12412    362496\n",
       "19606    352136\n",
       "9169     276204\n",
       "20809    274402\n",
       "17178    273809\n",
       "17503    255618\n",
       "18368    248184\n",
       "18353    228469\n",
       "15268    216039\n",
       "11071    205804\n",
       "Name: total_income, dtype: int64"
      ]
     },
     "execution_count": 30,
     "metadata": {},
     "output_type": "execute_result"
    }
   ],
   "source": [
    "data['total_income']=pd.to_numeric(data['total_income'], errors='raise').astype('int')\n",
    "#the 'to_numeric' method converts the values in the column in its argument to numerical values; float by default\n",
    "#the 'astype' method dictates what type of numerical value: 'int' for integer, 'float' for decimals\n",
    "data['total_income'].head(10) #prints the first 10 cells of the 'total_income' column"
   ]
  },
  {
   "cell_type": "markdown",
   "metadata": {},
   "source": [
    "<div class=\"alert alert-warning\">\n",
    "<b>Remarks: </b> Good, but what about gender, education_id, family_status, and debt? They could be converted to categoical type, debt - to the boolean.\n",
    "You can find more information here:<br>\n",
    "<a>https://pandas.pydata.org/pandas-docs/stable/user_guide/boolean.html</a> <br>\n",
    "<a>https://pandas.pydata.org/pandas-docs/stable/user_guide/categorical.html</a> \n",
    "    \n",
    "Rule of thumb: try to avoid object data type in your  dataframes.     \n",
    "</div>"
   ]
  },
  {
   "cell_type": "markdown",
   "metadata": {},
   "source": [
    "### Conclusion"
   ]
  },
  {
   "cell_type": "markdown",
   "metadata": {},
   "source": [
    "We converted total income values to integers for simplicity"
   ]
  },
  {
   "cell_type": "markdown",
   "metadata": {},
   "source": [
    "### Processing duplicates"
   ]
  },
  {
   "cell_type": "markdown",
   "metadata": {},
   "source": [
    "We remember the uppercase/lowercase duplicates in the 'education' column "
   ]
  },
  {
   "cell_type": "code",
   "execution_count": 35,
   "metadata": {},
   "outputs": [
    {
     "data": {
      "text/plain": [
       "secondary education    13750\n",
       "bachelor's degree       4718\n",
       "SECONDARY EDUCATION      772\n",
       "Secondary Education      711\n",
       "some college             668\n",
       "BACHELOR'S DEGREE        274\n",
       "Bachelor's Degree        268\n",
       "primary education        250\n",
       "Some College              47\n",
       "SOME COLLEGE              29\n",
       "PRIMARY EDUCATION         17\n",
       "Primary Education         15\n",
       "graduate degree            4\n",
       "Graduate Degree            1\n",
       "GRADUATE DEGREE            1\n",
       "Name: education, dtype: int64"
      ]
     },
     "execution_count": 35,
     "metadata": {},
     "output_type": "execute_result"
    }
   ],
   "source": [
    "data['education'].value_counts() "
   ]
  },
  {
   "cell_type": "markdown",
   "metadata": {},
   "source": [
    "In this case, there probably wasn't any standard set on how to put in the values (uppercase or lowercase). The solution to this is to convert all the values to one case, lowercase being the much preferred option. We will use the 'str.lower()' method"
   ]
  },
  {
   "cell_type": "code",
   "execution_count": 36,
   "metadata": {},
   "outputs": [
    {
     "data": {
      "text/plain": [
       "secondary education    15233\n",
       "bachelor's degree       5260\n",
       "some college             744\n",
       "primary education        282\n",
       "graduate degree            6\n",
       "Name: education, dtype: int64"
      ]
     },
     "execution_count": 36,
     "metadata": {},
     "output_type": "execute_result"
    }
   ],
   "source": [
    "data['education'] = data['education'].str.lower()\n",
    "#applies the 'str.lower()' method to the education column, thereby conerting all its values to lowercase\n",
    "data['education'].value_counts()"
   ]
  },
  {
   "cell_type": "markdown",
   "metadata": {},
   "source": [
    "<div class=\"alert alert-success\">\n",
    "<b>Success:</b> Great that you handle string data with str.lower()\n",
    "</div>"
   ]
  },
  {
   "cell_type": "markdown",
   "metadata": {},
   "source": [
    "All values in the 'education' column are in lowercase, and therefore there are no duplicates any longer"
   ]
  },
  {
   "cell_type": "markdown",
   "metadata": {},
   "source": [
    "<div class=\"alert alert-danger\">\n",
    "<b>Need to fix:</b> Good, but what about other duplicates? We can still find them with <code>data.duplicated().sum()</code>\n",
    "</div>"
   ]
  },
  {
   "cell_type": "code",
   "execution_count": 40,
   "metadata": {},
   "outputs": [
    {
     "data": {
      "text/plain": [
       "71"
      ]
     },
     "execution_count": 40,
     "metadata": {},
     "output_type": "execute_result"
    }
   ],
   "source": [
    "data.duplicated().sum()"
   ]
  },
  {
   "cell_type": "code",
   "execution_count": null,
   "metadata": {},
   "outputs": [],
   "source": [
    "data = data.drop_duplicates().reset_index(drop=True)"
   ]
  },
  {
   "cell_type": "markdown",
   "metadata": {},
   "source": [
    "### Conclusion"
   ]
  },
  {
   "cell_type": "markdown",
   "metadata": {},
   "source": [
    "We have solved the duplicates issue in the 'education' column by converting the values into lowercase using the str.lower() method"
   ]
  },
  {
   "cell_type": "markdown",
   "metadata": {},
   "source": [
    "### Categorizing Data"
   ]
  },
  {
   "cell_type": "markdown",
   "metadata": {},
   "source": [
    "We will categorize the data in purpose, total_income, debt, and children columns as they will be important in our analysis"
   ]
  },
  {
   "cell_type": "markdown",
   "metadata": {},
   "source": [
    "#### Categorizing the 'purpose' column"
   ]
  },
  {
   "cell_type": "code",
   "execution_count": null,
   "metadata": {},
   "outputs": [],
   "source": [
    "data['purpose'].value_counts()"
   ]
  },
  {
   "cell_type": "markdown",
   "metadata": {},
   "source": [
    "We observed earlier that we can put these purposes into 4 categories: car purchase, wedding, education, and real estate. This is where the 'ntlk.stem' library comes in. It helps stem words. We can pick out key words for each category. For purposes that have to so with car purchases, there are 2 key words: car and cars. We stem them using the 'english_stemmer' function we defined at the top with the stem method taking the word we want to stem as an argument (i.e 'english_stemmer.stem('car')' and 'english_stemmer.stem('cars')'). We can save those values to a list called 'car_stems'. We can do the same for the other categories; we just need to find their keywords. \n",
    "\n",
    "Keywords for education: 'education', 'educated', and 'university'\n",
    "Keywords for real estate: 'estate', 'property', 'house', and 'housing'\n",
    "Keyword for wedding: 'wedding' (no need to put this one in a list. Saving it to a variable is just fine)\n",
    "\n",
    "We will stem every word in the in the 'purpose' values and compare them to the stems of the keywords we collected using a conditional statement and return a string value which will be our category name."
   ]
  },
  {
   "cell_type": "markdown",
   "metadata": {},
   "source": [
    "<div class=\"alert alert-success\">\n",
    "<b>Success:</b> Nice introduction! If this task were real, it would be very useful to your readers.\n",
    "</div>"
   ]
  },
  {
   "cell_type": "code",
   "execution_count": 41,
   "metadata": {},
   "outputs": [
    {
     "data": {
      "text/plain": [
       "real estate     10840\n",
       "car purchase     4315\n",
       "education        4022\n",
       "wedding          2348\n",
       "Name: purpose, dtype: int64"
      ]
     },
     "execution_count": 41,
     "metadata": {},
     "output_type": "execute_result"
    }
   ],
   "source": [
    "def purpose_type(purpose):\n",
    "#this line defines a function we want to create called 'purpose_type' which takes 'purpose' as argument\n",
    "     \n",
    "    car_stems = [english_stemmer.stem('car'), english_stemmer.stem('cars')]\n",
    "#defines a list called 'car_stems' containing the stems of the 'car purchase' keywords\n",
    "    \n",
    "    wedding_stem = english_stemmer.stem('wedding')\n",
    "#defines a variable containing the stem of the word 'wedding' \n",
    "    \n",
    "    education_stems = [english_stemmer.stem('education'), english_stemmer.stem('educated'), english_stemmer.stem('university')]\n",
    "#defines a list called 'education_stems' containing the stems of all 'education' keywords\n",
    "    \n",
    "    real_estate_stems = [english_stemmer.stem('estate'), english_stemmer.stem('property'), english_stemmer.stem('house'), english_stemmer.stem('housing')]\n",
    "#defines a list called 'real_estate_stems' containing the stems of all 'real estate' keywords\n",
    "    \n",
    "    for word in purpose.split(\" \"):\n",
    "#this splits the purpose into its individual words separated by a space (\" \") and loops through every word (for)\n",
    "       \n",
    "        stemmed_word = english_stemmer.stem(word)\n",
    "#this creates a variable called 'stemmed_word' and saves to it the stem of each word of the purpose as it loops\n",
    "        \n",
    "#Conditional statements:\n",
    "\n",
    "        if stemmed_word in car_stems:\n",
    "            return 'car purchase'\n",
    "#If the stemmed word is found in the 'car_stems' list, the string 'car purchase' will be returned\n",
    "\n",
    "        if stemmed_word == wedding_stem:\n",
    "            return 'wedding'\n",
    "#If the stemmed word is equal to the 'wedding_stem' value, the string 'wedding' will be returned\n",
    "\n",
    "        if stemmed_word in education_stems:\n",
    "            return 'education'\n",
    "#If the stemmed word is found in the 'education_stems' list, the string 'education' will be returned\n",
    "\n",
    "        if stemmed_word in real_estate_stems:\n",
    "            return 'real estate'\n",
    "#If the stemmed word is found in the 'real_estate_stems' list, the string 'real estate' will be returned\n",
    "            \n",
    "data['purpose'] = data['purpose'].apply(purpose_type)\n",
    "#Using the 'apply' method with the purpose_type function we just created as an argument\n",
    "#we apply the function to the purpose column\n",
    "\n",
    "data['purpose'].value_counts()#displays the purpose column's values and their frequencies "
   ]
  },
  {
   "cell_type": "markdown",
   "metadata": {},
   "source": [
    "Our categorical values are in place in the purpose column. We could do this replacement without defining a function, but we would have to loop through rows and that would take more processing time and memory. Saving the code to a function and applying it to a single column takes less processing time and less memory"
   ]
  },
  {
   "cell_type": "markdown",
   "metadata": {},
   "source": [
    "#### Categorizing the 'debt' column"
   ]
  },
  {
   "cell_type": "markdown",
   "metadata": {},
   "source": [
    "There are 2 values in the debt column: 0 (meaning paid on time) and 1 (meaning defaulted)"
   ]
  },
  {
   "cell_type": "code",
   "execution_count": 42,
   "metadata": {},
   "outputs": [
    {
     "data": {
      "text/plain": [
       "0    19784\n",
       "1     1741\n",
       "Name: debt, dtype: int64"
      ]
     },
     "execution_count": 42,
     "metadata": {},
     "output_type": "execute_result"
    }
   ],
   "source": [
    "data['debt'].value_counts()"
   ]
  },
  {
   "cell_type": "markdown",
   "metadata": {},
   "source": [
    "We need to create a dictionary to explain what those values mean. We first have apply a function (that we will call 'debt_status') to the 'debt' column and save the output to a new column that we will call 'debt_status' "
   ]
  },
  {
   "cell_type": "code",
   "execution_count": 43,
   "metadata": {},
   "outputs": [
    {
     "data": {
      "text/html": [
       "<div>\n",
       "<style scoped>\n",
       "    .dataframe tbody tr th:only-of-type {\n",
       "        vertical-align: middle;\n",
       "    }\n",
       "\n",
       "    .dataframe tbody tr th {\n",
       "        vertical-align: top;\n",
       "    }\n",
       "\n",
       "    .dataframe thead th {\n",
       "        text-align: right;\n",
       "    }\n",
       "</style>\n",
       "<table border=\"1\" class=\"dataframe\">\n",
       "  <thead>\n",
       "    <tr style=\"text-align: right;\">\n",
       "      <th></th>\n",
       "      <th>children</th>\n",
       "      <th>dob_years</th>\n",
       "      <th>education</th>\n",
       "      <th>education_id</th>\n",
       "      <th>family_status</th>\n",
       "      <th>family_status_id</th>\n",
       "      <th>gender</th>\n",
       "      <th>income_type</th>\n",
       "      <th>debt</th>\n",
       "      <th>total_income</th>\n",
       "      <th>purpose</th>\n",
       "      <th>debt_status</th>\n",
       "    </tr>\n",
       "  </thead>\n",
       "  <tbody>\n",
       "    <tr>\n",
       "      <td>12412</td>\n",
       "      <td>0</td>\n",
       "      <td>44</td>\n",
       "      <td>bachelor's degree</td>\n",
       "      <td>0</td>\n",
       "      <td>married</td>\n",
       "      <td>0</td>\n",
       "      <td>M</td>\n",
       "      <td>business</td>\n",
       "      <td>0</td>\n",
       "      <td>362496</td>\n",
       "      <td>real estate</td>\n",
       "      <td>on time</td>\n",
       "    </tr>\n",
       "    <tr>\n",
       "      <td>19606</td>\n",
       "      <td>1</td>\n",
       "      <td>39</td>\n",
       "      <td>bachelor's degree</td>\n",
       "      <td>0</td>\n",
       "      <td>married</td>\n",
       "      <td>0</td>\n",
       "      <td>M</td>\n",
       "      <td>business</td>\n",
       "      <td>1</td>\n",
       "      <td>352136</td>\n",
       "      <td>real estate</td>\n",
       "      <td>defaulted</td>\n",
       "    </tr>\n",
       "    <tr>\n",
       "      <td>9169</td>\n",
       "      <td>1</td>\n",
       "      <td>35</td>\n",
       "      <td>secondary education</td>\n",
       "      <td>1</td>\n",
       "      <td>civil partnership</td>\n",
       "      <td>1</td>\n",
       "      <td>M</td>\n",
       "      <td>employee</td>\n",
       "      <td>0</td>\n",
       "      <td>276204</td>\n",
       "      <td>education</td>\n",
       "      <td>on time</td>\n",
       "    </tr>\n",
       "    <tr>\n",
       "      <td>20809</td>\n",
       "      <td>0</td>\n",
       "      <td>61</td>\n",
       "      <td>secondary education</td>\n",
       "      <td>1</td>\n",
       "      <td>unmarried</td>\n",
       "      <td>4</td>\n",
       "      <td>F</td>\n",
       "      <td>employee</td>\n",
       "      <td>0</td>\n",
       "      <td>274402</td>\n",
       "      <td>real estate</td>\n",
       "      <td>on time</td>\n",
       "    </tr>\n",
       "    <tr>\n",
       "      <td>17178</td>\n",
       "      <td>0</td>\n",
       "      <td>42</td>\n",
       "      <td>bachelor's degree</td>\n",
       "      <td>0</td>\n",
       "      <td>civil partnership</td>\n",
       "      <td>1</td>\n",
       "      <td>M</td>\n",
       "      <td>business</td>\n",
       "      <td>0</td>\n",
       "      <td>273809</td>\n",
       "      <td>wedding</td>\n",
       "      <td>on time</td>\n",
       "    </tr>\n",
       "    <tr>\n",
       "      <td>17503</td>\n",
       "      <td>0</td>\n",
       "      <td>43</td>\n",
       "      <td>secondary education</td>\n",
       "      <td>1</td>\n",
       "      <td>married</td>\n",
       "      <td>0</td>\n",
       "      <td>M</td>\n",
       "      <td>business</td>\n",
       "      <td>0</td>\n",
       "      <td>255618</td>\n",
       "      <td>real estate</td>\n",
       "      <td>on time</td>\n",
       "    </tr>\n",
       "    <tr>\n",
       "      <td>18368</td>\n",
       "      <td>1</td>\n",
       "      <td>41</td>\n",
       "      <td>bachelor's degree</td>\n",
       "      <td>0</td>\n",
       "      <td>civil partnership</td>\n",
       "      <td>1</td>\n",
       "      <td>M</td>\n",
       "      <td>business</td>\n",
       "      <td>0</td>\n",
       "      <td>248184</td>\n",
       "      <td>wedding</td>\n",
       "      <td>on time</td>\n",
       "    </tr>\n",
       "    <tr>\n",
       "      <td>18353</td>\n",
       "      <td>1</td>\n",
       "      <td>41</td>\n",
       "      <td>bachelor's degree</td>\n",
       "      <td>0</td>\n",
       "      <td>unmarried</td>\n",
       "      <td>4</td>\n",
       "      <td>F</td>\n",
       "      <td>business</td>\n",
       "      <td>0</td>\n",
       "      <td>228469</td>\n",
       "      <td>car purchase</td>\n",
       "      <td>on time</td>\n",
       "    </tr>\n",
       "    <tr>\n",
       "      <td>15268</td>\n",
       "      <td>1</td>\n",
       "      <td>64</td>\n",
       "      <td>bachelor's degree</td>\n",
       "      <td>0</td>\n",
       "      <td>divorced</td>\n",
       "      <td>3</td>\n",
       "      <td>M</td>\n",
       "      <td>business</td>\n",
       "      <td>0</td>\n",
       "      <td>216039</td>\n",
       "      <td>real estate</td>\n",
       "      <td>on time</td>\n",
       "    </tr>\n",
       "    <tr>\n",
       "      <td>11071</td>\n",
       "      <td>1</td>\n",
       "      <td>36</td>\n",
       "      <td>bachelor's degree</td>\n",
       "      <td>0</td>\n",
       "      <td>civil partnership</td>\n",
       "      <td>1</td>\n",
       "      <td>F</td>\n",
       "      <td>employee</td>\n",
       "      <td>0</td>\n",
       "      <td>205804</td>\n",
       "      <td>real estate</td>\n",
       "      <td>on time</td>\n",
       "    </tr>\n",
       "  </tbody>\n",
       "</table>\n",
       "</div>"
      ],
      "text/plain": [
       "       children  dob_years            education  education_id  \\\n",
       "12412         0         44    bachelor's degree             0   \n",
       "19606         1         39    bachelor's degree             0   \n",
       "9169          1         35  secondary education             1   \n",
       "20809         0         61  secondary education             1   \n",
       "17178         0         42    bachelor's degree             0   \n",
       "17503         0         43  secondary education             1   \n",
       "18368         1         41    bachelor's degree             0   \n",
       "18353         1         41    bachelor's degree             0   \n",
       "15268         1         64    bachelor's degree             0   \n",
       "11071         1         36    bachelor's degree             0   \n",
       "\n",
       "           family_status  family_status_id gender income_type  debt  \\\n",
       "12412            married                 0      M    business     0   \n",
       "19606            married                 0      M    business     1   \n",
       "9169   civil partnership                 1      M    employee     0   \n",
       "20809          unmarried                 4      F    employee     0   \n",
       "17178  civil partnership                 1      M    business     0   \n",
       "17503            married                 0      M    business     0   \n",
       "18368  civil partnership                 1      M    business     0   \n",
       "18353          unmarried                 4      F    business     0   \n",
       "15268           divorced                 3      M    business     0   \n",
       "11071  civil partnership                 1      F    employee     0   \n",
       "\n",
       "       total_income       purpose debt_status  \n",
       "12412        362496   real estate     on time  \n",
       "19606        352136   real estate   defaulted  \n",
       "9169         276204     education     on time  \n",
       "20809        274402   real estate     on time  \n",
       "17178        273809       wedding     on time  \n",
       "17503        255618   real estate     on time  \n",
       "18368        248184       wedding     on time  \n",
       "18353        228469  car purchase     on time  \n",
       "15268        216039   real estate     on time  \n",
       "11071        205804   real estate     on time  "
      ]
     },
     "execution_count": 43,
     "metadata": {},
     "output_type": "execute_result"
    }
   ],
   "source": [
    "def debt_status(debt_id):\n",
    "#this defines a a function called 'debt_status' that will take as argument 'debt_id'\n",
    "\n",
    "    if debt_id == 1:\n",
    "        return 'defaulted'\n",
    "#if the input value is 1, it returns the string value 'defaulted'\n",
    "    if debt_id == 0:\n",
    "        return 'on time'\n",
    "#if the input value is 0, it returns the string value 'on time'\n",
    "    \n",
    "data['debt_status'] = data['debt'].apply(debt_status)\n",
    "#applies the debt_status function to the 'debt' column and saves the results to the new 'debt_status' column\n",
    "\n",
    "data.head(10) #displays the first 10 rows of the table"
   ]
  },
  {
   "cell_type": "markdown",
   "metadata": {},
   "source": [
    "<div class=\"alert alert-warning\">\n",
    "<b>Remarks: </b> Oh, that's brutal :) Technically you are right, but there are more effective ways to achive your goal.\n",
    "    \n",
    "You can convert debt to boolean data type and store values like True and False. After that you can replace your values with numpy.where: <a>https://stackoverflow.com/questions/39698672/pandas-replace-boolean-value-with-string-or-integer</a> <br>\n",
    "\n",
    "Rule of thumb: try to avoid apply function. It makes your code much slower.\n",
    "You can read more here: <a>https://realpython.com/fast-flexible-pandas/#pandas-apply</a>\n",
    "    \n",
    "<div>\n"
   ]
  },
  {
   "cell_type": "markdown",
   "metadata": {},
   "source": [
    "The 'debt_status' column will say 'defaulted' wherever the 'debt' column says '1'; and wherever 'debt' column says '0', 'debt_status' column will say 'on time'. Now we can create the dictionary which is basically a table explaining what a set of values from the main table mean. We will call that dictionary 'debt_status_dict' and we will save into it the values of the 'debt' and 'debt_status' columns from the main 'data' table. After deleting all duplicates, the dictionary is ready"
   ]
  },
  {
   "cell_type": "code",
   "execution_count": 44,
   "metadata": {},
   "outputs": [
    {
     "data": {
      "text/html": [
       "<div>\n",
       "<style scoped>\n",
       "    .dataframe tbody tr th:only-of-type {\n",
       "        vertical-align: middle;\n",
       "    }\n",
       "\n",
       "    .dataframe tbody tr th {\n",
       "        vertical-align: top;\n",
       "    }\n",
       "\n",
       "    .dataframe thead th {\n",
       "        text-align: right;\n",
       "    }\n",
       "</style>\n",
       "<table border=\"1\" class=\"dataframe\">\n",
       "  <thead>\n",
       "    <tr style=\"text-align: right;\">\n",
       "      <th></th>\n",
       "      <th>debt</th>\n",
       "      <th>debt_status</th>\n",
       "    </tr>\n",
       "  </thead>\n",
       "  <tbody>\n",
       "    <tr>\n",
       "      <td>0</td>\n",
       "      <td>0</td>\n",
       "      <td>on time</td>\n",
       "    </tr>\n",
       "    <tr>\n",
       "      <td>1</td>\n",
       "      <td>1</td>\n",
       "      <td>defaulted</td>\n",
       "    </tr>\n",
       "  </tbody>\n",
       "</table>\n",
       "</div>"
      ],
      "text/plain": [
       "   debt debt_status\n",
       "0     0     on time\n",
       "1     1   defaulted"
      ]
     },
     "execution_count": 44,
     "metadata": {},
     "output_type": "execute_result"
    }
   ],
   "source": [
    "debt_status_dict = data[['debt', 'debt_status']]\n",
    "#creates a 'debt_status_dict' table and saves to it the 'debt' and 'debt_status' columns from\n",
    "#the 'data' table\n",
    "\n",
    "debt_status_dict = debt_status_dict.drop_duplicates().reset_index(drop=True).sort_values(by='debt', ascending=True)\n",
    "#this drops duplicates from the table, resets the row numbering (index), and sorts it descending order\n",
    "#of the 'debt' column values\n",
    "\n",
    "debt_status_dict #displays the 'debt_status_dict' table"
   ]
  },
  {
   "cell_type": "markdown",
   "metadata": {},
   "source": [
    "#### Categorizing 'total_income'"
   ]
  },
  {
   "cell_type": "markdown",
   "metadata": {},
   "source": [
    "The 'total_income' has a lot of different values"
   ]
  },
  {
   "cell_type": "code",
   "execution_count": 45,
   "metadata": {},
   "outputs": [
    {
     "data": {
      "text/plain": [
       "15388"
      ]
     },
     "execution_count": 45,
     "metadata": {},
     "output_type": "execute_result"
    }
   ],
   "source": [
    "len(data['total_income'].unique()) #gives us the number of unique values in the 'total_income' column"
   ]
  },
  {
   "cell_type": "markdown",
   "metadata": {},
   "source": [
    "We are definitely NOT creating a dictionary for 19349 categories. These are quantitative values so we can create 2 categories: 1 category for incomes below or equal to a certain value (like the median) and another category for incomes above that same value. We will define a function (we will call it 'income_category'); it will take the 'total_income' as argument and return 'below median' if the income is below or equal to the median, or 'above median' if the income is above the median. We will apply the function to the 'total_income' column. The output will be saved in a new column called 'income_category'"
   ]
  },
  {
   "cell_type": "code",
   "execution_count": 46,
   "metadata": {},
   "outputs": [
    {
     "data": {
      "text/html": [
       "<div>\n",
       "<style scoped>\n",
       "    .dataframe tbody tr th:only-of-type {\n",
       "        vertical-align: middle;\n",
       "    }\n",
       "\n",
       "    .dataframe tbody tr th {\n",
       "        vertical-align: top;\n",
       "    }\n",
       "\n",
       "    .dataframe thead th {\n",
       "        text-align: right;\n",
       "    }\n",
       "</style>\n",
       "<table border=\"1\" class=\"dataframe\">\n",
       "  <thead>\n",
       "    <tr style=\"text-align: right;\">\n",
       "      <th></th>\n",
       "      <th>children</th>\n",
       "      <th>dob_years</th>\n",
       "      <th>education</th>\n",
       "      <th>education_id</th>\n",
       "      <th>family_status</th>\n",
       "      <th>family_status_id</th>\n",
       "      <th>gender</th>\n",
       "      <th>income_type</th>\n",
       "      <th>debt</th>\n",
       "      <th>total_income</th>\n",
       "      <th>purpose</th>\n",
       "      <th>debt_status</th>\n",
       "      <th>income_category</th>\n",
       "    </tr>\n",
       "  </thead>\n",
       "  <tbody>\n",
       "    <tr>\n",
       "      <td>12412</td>\n",
       "      <td>0</td>\n",
       "      <td>44</td>\n",
       "      <td>bachelor's degree</td>\n",
       "      <td>0</td>\n",
       "      <td>married</td>\n",
       "      <td>0</td>\n",
       "      <td>M</td>\n",
       "      <td>business</td>\n",
       "      <td>0</td>\n",
       "      <td>362496</td>\n",
       "      <td>real estate</td>\n",
       "      <td>on time</td>\n",
       "      <td>above median</td>\n",
       "    </tr>\n",
       "    <tr>\n",
       "      <td>19606</td>\n",
       "      <td>1</td>\n",
       "      <td>39</td>\n",
       "      <td>bachelor's degree</td>\n",
       "      <td>0</td>\n",
       "      <td>married</td>\n",
       "      <td>0</td>\n",
       "      <td>M</td>\n",
       "      <td>business</td>\n",
       "      <td>1</td>\n",
       "      <td>352136</td>\n",
       "      <td>real estate</td>\n",
       "      <td>defaulted</td>\n",
       "      <td>above median</td>\n",
       "    </tr>\n",
       "    <tr>\n",
       "      <td>9169</td>\n",
       "      <td>1</td>\n",
       "      <td>35</td>\n",
       "      <td>secondary education</td>\n",
       "      <td>1</td>\n",
       "      <td>civil partnership</td>\n",
       "      <td>1</td>\n",
       "      <td>M</td>\n",
       "      <td>employee</td>\n",
       "      <td>0</td>\n",
       "      <td>276204</td>\n",
       "      <td>education</td>\n",
       "      <td>on time</td>\n",
       "      <td>above median</td>\n",
       "    </tr>\n",
       "    <tr>\n",
       "      <td>20809</td>\n",
       "      <td>0</td>\n",
       "      <td>61</td>\n",
       "      <td>secondary education</td>\n",
       "      <td>1</td>\n",
       "      <td>unmarried</td>\n",
       "      <td>4</td>\n",
       "      <td>F</td>\n",
       "      <td>employee</td>\n",
       "      <td>0</td>\n",
       "      <td>274402</td>\n",
       "      <td>real estate</td>\n",
       "      <td>on time</td>\n",
       "      <td>above median</td>\n",
       "    </tr>\n",
       "    <tr>\n",
       "      <td>17178</td>\n",
       "      <td>0</td>\n",
       "      <td>42</td>\n",
       "      <td>bachelor's degree</td>\n",
       "      <td>0</td>\n",
       "      <td>civil partnership</td>\n",
       "      <td>1</td>\n",
       "      <td>M</td>\n",
       "      <td>business</td>\n",
       "      <td>0</td>\n",
       "      <td>273809</td>\n",
       "      <td>wedding</td>\n",
       "      <td>on time</td>\n",
       "      <td>above median</td>\n",
       "    </tr>\n",
       "    <tr>\n",
       "      <td>17503</td>\n",
       "      <td>0</td>\n",
       "      <td>43</td>\n",
       "      <td>secondary education</td>\n",
       "      <td>1</td>\n",
       "      <td>married</td>\n",
       "      <td>0</td>\n",
       "      <td>M</td>\n",
       "      <td>business</td>\n",
       "      <td>0</td>\n",
       "      <td>255618</td>\n",
       "      <td>real estate</td>\n",
       "      <td>on time</td>\n",
       "      <td>above median</td>\n",
       "    </tr>\n",
       "    <tr>\n",
       "      <td>18368</td>\n",
       "      <td>1</td>\n",
       "      <td>41</td>\n",
       "      <td>bachelor's degree</td>\n",
       "      <td>0</td>\n",
       "      <td>civil partnership</td>\n",
       "      <td>1</td>\n",
       "      <td>M</td>\n",
       "      <td>business</td>\n",
       "      <td>0</td>\n",
       "      <td>248184</td>\n",
       "      <td>wedding</td>\n",
       "      <td>on time</td>\n",
       "      <td>above median</td>\n",
       "    </tr>\n",
       "    <tr>\n",
       "      <td>18353</td>\n",
       "      <td>1</td>\n",
       "      <td>41</td>\n",
       "      <td>bachelor's degree</td>\n",
       "      <td>0</td>\n",
       "      <td>unmarried</td>\n",
       "      <td>4</td>\n",
       "      <td>F</td>\n",
       "      <td>business</td>\n",
       "      <td>0</td>\n",
       "      <td>228469</td>\n",
       "      <td>car purchase</td>\n",
       "      <td>on time</td>\n",
       "      <td>above median</td>\n",
       "    </tr>\n",
       "    <tr>\n",
       "      <td>15268</td>\n",
       "      <td>1</td>\n",
       "      <td>64</td>\n",
       "      <td>bachelor's degree</td>\n",
       "      <td>0</td>\n",
       "      <td>divorced</td>\n",
       "      <td>3</td>\n",
       "      <td>M</td>\n",
       "      <td>business</td>\n",
       "      <td>0</td>\n",
       "      <td>216039</td>\n",
       "      <td>real estate</td>\n",
       "      <td>on time</td>\n",
       "      <td>above median</td>\n",
       "    </tr>\n",
       "    <tr>\n",
       "      <td>11071</td>\n",
       "      <td>1</td>\n",
       "      <td>36</td>\n",
       "      <td>bachelor's degree</td>\n",
       "      <td>0</td>\n",
       "      <td>civil partnership</td>\n",
       "      <td>1</td>\n",
       "      <td>F</td>\n",
       "      <td>employee</td>\n",
       "      <td>0</td>\n",
       "      <td>205804</td>\n",
       "      <td>real estate</td>\n",
       "      <td>on time</td>\n",
       "      <td>above median</td>\n",
       "    </tr>\n",
       "  </tbody>\n",
       "</table>\n",
       "</div>"
      ],
      "text/plain": [
       "       children  dob_years            education  education_id  \\\n",
       "12412         0         44    bachelor's degree             0   \n",
       "19606         1         39    bachelor's degree             0   \n",
       "9169          1         35  secondary education             1   \n",
       "20809         0         61  secondary education             1   \n",
       "17178         0         42    bachelor's degree             0   \n",
       "17503         0         43  secondary education             1   \n",
       "18368         1         41    bachelor's degree             0   \n",
       "18353         1         41    bachelor's degree             0   \n",
       "15268         1         64    bachelor's degree             0   \n",
       "11071         1         36    bachelor's degree             0   \n",
       "\n",
       "           family_status  family_status_id gender income_type  debt  \\\n",
       "12412            married                 0      M    business     0   \n",
       "19606            married                 0      M    business     1   \n",
       "9169   civil partnership                 1      M    employee     0   \n",
       "20809          unmarried                 4      F    employee     0   \n",
       "17178  civil partnership                 1      M    business     0   \n",
       "17503            married                 0      M    business     0   \n",
       "18368  civil partnership                 1      M    business     0   \n",
       "18353          unmarried                 4      F    business     0   \n",
       "15268           divorced                 3      M    business     0   \n",
       "11071  civil partnership                 1      F    employee     0   \n",
       "\n",
       "       total_income       purpose debt_status income_category  \n",
       "12412        362496   real estate     on time    above median  \n",
       "19606        352136   real estate   defaulted    above median  \n",
       "9169         276204     education     on time    above median  \n",
       "20809        274402   real estate     on time    above median  \n",
       "17178        273809       wedding     on time    above median  \n",
       "17503        255618   real estate     on time    above median  \n",
       "18368        248184       wedding     on time    above median  \n",
       "18353        228469  car purchase     on time    above median  \n",
       "15268        216039   real estate     on time    above median  \n",
       "11071        205804   real estate     on time    above median  "
      ]
     },
     "execution_count": 46,
     "metadata": {},
     "output_type": "execute_result"
    }
   ],
   "source": [
    "def income_category(total_income):\n",
    "#creates function called 'income_category' that takes the total_income as argument\n",
    "\n",
    "    if total_income <= data['total_income'].median():\n",
    "        return 'below median'\n",
    "#If total_income is less than or equal to the median total income, return the string 'below median' \n",
    "   \n",
    "    return 'above median'\n",
    "#If total_income is greater than the median total income, return the string 'above median'\n",
    "\n",
    "data['income_category'] = data['total_income'].apply(income_category)\n",
    "#applies our 'income_category' function to the 'total_income' column and saves the output to \n",
    "#the new 'income_category' column\n",
    "\n",
    "data.head(10) #displays the first ten rows of the 'data' table"
   ]
  },
  {
   "cell_type": "markdown",
   "metadata": {},
   "source": [
    "<div class=\"alert alert-warning\">\n",
    "<b>Remarks: </b> I see, you really like apply function :) <br>\n",
    "Alternative way: <code>data['income_category'] = (data['total_income'] <= data['total_income'].median())</code>                "
   ]
  },
  {
   "cell_type": "markdown",
   "metadata": {},
   "source": [
    "#### Categorizing the 'children' column"
   ]
  },
  {
   "cell_type": "markdown",
   "metadata": {},
   "source": [
    "This column tells us how many kids the clients have, so we are dealing with quantitative values again. One of the questions we will have to answer is if having kids has an effect on repaying loans on time. So we have our 2 categories: 'no children' and 'children'"
   ]
  },
  {
   "cell_type": "code",
   "execution_count": 48,
   "metadata": {},
   "outputs": [
    {
     "data": {
      "text/html": [
       "<div>\n",
       "<style scoped>\n",
       "    .dataframe tbody tr th:only-of-type {\n",
       "        vertical-align: middle;\n",
       "    }\n",
       "\n",
       "    .dataframe tbody tr th {\n",
       "        vertical-align: top;\n",
       "    }\n",
       "\n",
       "    .dataframe thead th {\n",
       "        text-align: right;\n",
       "    }\n",
       "</style>\n",
       "<table border=\"1\" class=\"dataframe\">\n",
       "  <thead>\n",
       "    <tr style=\"text-align: right;\">\n",
       "      <th></th>\n",
       "      <th>children</th>\n",
       "      <th>dob_years</th>\n",
       "      <th>education</th>\n",
       "      <th>education_id</th>\n",
       "      <th>family_status</th>\n",
       "      <th>family_status_id</th>\n",
       "      <th>gender</th>\n",
       "      <th>income_type</th>\n",
       "      <th>debt</th>\n",
       "      <th>total_income</th>\n",
       "      <th>purpose</th>\n",
       "      <th>debt_status</th>\n",
       "      <th>income_category</th>\n",
       "      <th>children_status</th>\n",
       "    </tr>\n",
       "  </thead>\n",
       "  <tbody>\n",
       "    <tr>\n",
       "      <td>12412</td>\n",
       "      <td>0</td>\n",
       "      <td>44</td>\n",
       "      <td>bachelor's degree</td>\n",
       "      <td>0</td>\n",
       "      <td>married</td>\n",
       "      <td>0</td>\n",
       "      <td>M</td>\n",
       "      <td>business</td>\n",
       "      <td>0</td>\n",
       "      <td>362496</td>\n",
       "      <td>real estate</td>\n",
       "      <td>on time</td>\n",
       "      <td>above median</td>\n",
       "      <td>no children</td>\n",
       "    </tr>\n",
       "    <tr>\n",
       "      <td>19606</td>\n",
       "      <td>1</td>\n",
       "      <td>39</td>\n",
       "      <td>bachelor's degree</td>\n",
       "      <td>0</td>\n",
       "      <td>married</td>\n",
       "      <td>0</td>\n",
       "      <td>M</td>\n",
       "      <td>business</td>\n",
       "      <td>1</td>\n",
       "      <td>352136</td>\n",
       "      <td>real estate</td>\n",
       "      <td>defaulted</td>\n",
       "      <td>above median</td>\n",
       "      <td>children</td>\n",
       "    </tr>\n",
       "    <tr>\n",
       "      <td>9169</td>\n",
       "      <td>1</td>\n",
       "      <td>35</td>\n",
       "      <td>secondary education</td>\n",
       "      <td>1</td>\n",
       "      <td>civil partnership</td>\n",
       "      <td>1</td>\n",
       "      <td>M</td>\n",
       "      <td>employee</td>\n",
       "      <td>0</td>\n",
       "      <td>276204</td>\n",
       "      <td>education</td>\n",
       "      <td>on time</td>\n",
       "      <td>above median</td>\n",
       "      <td>children</td>\n",
       "    </tr>\n",
       "    <tr>\n",
       "      <td>20809</td>\n",
       "      <td>0</td>\n",
       "      <td>61</td>\n",
       "      <td>secondary education</td>\n",
       "      <td>1</td>\n",
       "      <td>unmarried</td>\n",
       "      <td>4</td>\n",
       "      <td>F</td>\n",
       "      <td>employee</td>\n",
       "      <td>0</td>\n",
       "      <td>274402</td>\n",
       "      <td>real estate</td>\n",
       "      <td>on time</td>\n",
       "      <td>above median</td>\n",
       "      <td>no children</td>\n",
       "    </tr>\n",
       "    <tr>\n",
       "      <td>17178</td>\n",
       "      <td>0</td>\n",
       "      <td>42</td>\n",
       "      <td>bachelor's degree</td>\n",
       "      <td>0</td>\n",
       "      <td>civil partnership</td>\n",
       "      <td>1</td>\n",
       "      <td>M</td>\n",
       "      <td>business</td>\n",
       "      <td>0</td>\n",
       "      <td>273809</td>\n",
       "      <td>wedding</td>\n",
       "      <td>on time</td>\n",
       "      <td>above median</td>\n",
       "      <td>no children</td>\n",
       "    </tr>\n",
       "    <tr>\n",
       "      <td>17503</td>\n",
       "      <td>0</td>\n",
       "      <td>43</td>\n",
       "      <td>secondary education</td>\n",
       "      <td>1</td>\n",
       "      <td>married</td>\n",
       "      <td>0</td>\n",
       "      <td>M</td>\n",
       "      <td>business</td>\n",
       "      <td>0</td>\n",
       "      <td>255618</td>\n",
       "      <td>real estate</td>\n",
       "      <td>on time</td>\n",
       "      <td>above median</td>\n",
       "      <td>no children</td>\n",
       "    </tr>\n",
       "    <tr>\n",
       "      <td>18368</td>\n",
       "      <td>1</td>\n",
       "      <td>41</td>\n",
       "      <td>bachelor's degree</td>\n",
       "      <td>0</td>\n",
       "      <td>civil partnership</td>\n",
       "      <td>1</td>\n",
       "      <td>M</td>\n",
       "      <td>business</td>\n",
       "      <td>0</td>\n",
       "      <td>248184</td>\n",
       "      <td>wedding</td>\n",
       "      <td>on time</td>\n",
       "      <td>above median</td>\n",
       "      <td>children</td>\n",
       "    </tr>\n",
       "    <tr>\n",
       "      <td>18353</td>\n",
       "      <td>1</td>\n",
       "      <td>41</td>\n",
       "      <td>bachelor's degree</td>\n",
       "      <td>0</td>\n",
       "      <td>unmarried</td>\n",
       "      <td>4</td>\n",
       "      <td>F</td>\n",
       "      <td>business</td>\n",
       "      <td>0</td>\n",
       "      <td>228469</td>\n",
       "      <td>car purchase</td>\n",
       "      <td>on time</td>\n",
       "      <td>above median</td>\n",
       "      <td>children</td>\n",
       "    </tr>\n",
       "    <tr>\n",
       "      <td>15268</td>\n",
       "      <td>1</td>\n",
       "      <td>64</td>\n",
       "      <td>bachelor's degree</td>\n",
       "      <td>0</td>\n",
       "      <td>divorced</td>\n",
       "      <td>3</td>\n",
       "      <td>M</td>\n",
       "      <td>business</td>\n",
       "      <td>0</td>\n",
       "      <td>216039</td>\n",
       "      <td>real estate</td>\n",
       "      <td>on time</td>\n",
       "      <td>above median</td>\n",
       "      <td>children</td>\n",
       "    </tr>\n",
       "    <tr>\n",
       "      <td>11071</td>\n",
       "      <td>1</td>\n",
       "      <td>36</td>\n",
       "      <td>bachelor's degree</td>\n",
       "      <td>0</td>\n",
       "      <td>civil partnership</td>\n",
       "      <td>1</td>\n",
       "      <td>F</td>\n",
       "      <td>employee</td>\n",
       "      <td>0</td>\n",
       "      <td>205804</td>\n",
       "      <td>real estate</td>\n",
       "      <td>on time</td>\n",
       "      <td>above median</td>\n",
       "      <td>children</td>\n",
       "    </tr>\n",
       "  </tbody>\n",
       "</table>\n",
       "</div>"
      ],
      "text/plain": [
       "       children  dob_years            education  education_id  \\\n",
       "12412         0         44    bachelor's degree             0   \n",
       "19606         1         39    bachelor's degree             0   \n",
       "9169          1         35  secondary education             1   \n",
       "20809         0         61  secondary education             1   \n",
       "17178         0         42    bachelor's degree             0   \n",
       "17503         0         43  secondary education             1   \n",
       "18368         1         41    bachelor's degree             0   \n",
       "18353         1         41    bachelor's degree             0   \n",
       "15268         1         64    bachelor's degree             0   \n",
       "11071         1         36    bachelor's degree             0   \n",
       "\n",
       "           family_status  family_status_id gender income_type  debt  \\\n",
       "12412            married                 0      M    business     0   \n",
       "19606            married                 0      M    business     1   \n",
       "9169   civil partnership                 1      M    employee     0   \n",
       "20809          unmarried                 4      F    employee     0   \n",
       "17178  civil partnership                 1      M    business     0   \n",
       "17503            married                 0      M    business     0   \n",
       "18368  civil partnership                 1      M    business     0   \n",
       "18353          unmarried                 4      F    business     0   \n",
       "15268           divorced                 3      M    business     0   \n",
       "11071  civil partnership                 1      F    employee     0   \n",
       "\n",
       "       total_income       purpose debt_status income_category children_status  \n",
       "12412        362496   real estate     on time    above median     no children  \n",
       "19606        352136   real estate   defaulted    above median        children  \n",
       "9169         276204     education     on time    above median        children  \n",
       "20809        274402   real estate     on time    above median     no children  \n",
       "17178        273809       wedding     on time    above median     no children  \n",
       "17503        255618   real estate     on time    above median     no children  \n",
       "18368        248184       wedding     on time    above median        children  \n",
       "18353        228469  car purchase     on time    above median        children  \n",
       "15268        216039   real estate     on time    above median        children  \n",
       "11071        205804   real estate     on time    above median        children  "
      ]
     },
     "execution_count": 48,
     "metadata": {},
     "output_type": "execute_result"
    }
   ],
   "source": [
    "def children_status(children):\n",
    "#creates function called 'children_category' that takes 'children' as argument\n",
    "    \n",
    "    if children == 0:\n",
    "        return 'no children'\n",
    "#If children is equal to zero, return the string 'no children' \n",
    "    \n",
    "    if children > 0:\n",
    "        return 'children'\n",
    "#If children is greater than zero, return the string 'children'\n",
    "\n",
    "data['children_status'] = data['children'].apply(children_status)\n",
    "#applies our 'children_status' function to the 'children' column and saves the output to \n",
    "#the new 'children_status' column\n",
    "\n",
    "data.head(10)#prints the first ten rows of the 'data' table"
   ]
  },
  {
   "cell_type": "markdown",
   "metadata": {},
   "source": [
    "#### Categorizing 'family_status_id'"
   ]
  },
  {
   "cell_type": "code",
   "execution_count": 49,
   "metadata": {},
   "outputs": [
    {
     "data": {
      "text/plain": [
       "0    12380\n",
       "1     4177\n",
       "4     2813\n",
       "3     1195\n",
       "2      960\n",
       "Name: family_status_id, dtype: int64"
      ]
     },
     "execution_count": 49,
     "metadata": {},
     "output_type": "execute_result"
    }
   ],
   "source": [
    "data['family_status_id'].value_counts()"
   ]
  },
  {
   "cell_type": "markdown",
   "metadata": {},
   "source": [
    "We would usually need to make another column then export them to the dictionary, but an explanatory column exists already in our table: 'family_status'. Let us get value counts for'family_status'"
   ]
  },
  {
   "cell_type": "code",
   "execution_count": 50,
   "metadata": {},
   "outputs": [
    {
     "data": {
      "text/plain": [
       "married              12380\n",
       "civil partnership     4177\n",
       "unmarried             2813\n",
       "divorced              1195\n",
       "widow / widower        960\n",
       "Name: family_status, dtype: int64"
      ]
     },
     "execution_count": 50,
     "metadata": {},
     "output_type": "execute_result"
    }
   ],
   "source": [
    "data['family_status'].value_counts()"
   ]
  },
  {
   "cell_type": "markdown",
   "metadata": {},
   "source": [
    "We have our values. First of all, let's change \"widow / widower\" to \"widowed\". We are doing that for simplicity"
   ]
  },
  {
   "cell_type": "code",
   "execution_count": 51,
   "metadata": {},
   "outputs": [
    {
     "data": {
      "text/plain": [
       "married              12380\n",
       "civil partnership     4177\n",
       "unmarried             2813\n",
       "divorced              1195\n",
       "widowed                960\n",
       "Name: family_status, dtype: int64"
      ]
     },
     "execution_count": 51,
     "metadata": {},
     "output_type": "execute_result"
    }
   ],
   "source": [
    "data['family_status']=data['family_status'].replace('widow / widower', 'widowed')\n",
    "#changes the 'family_status' column by replacing every occurrence of 'widow / widower' to 'widowed'\n",
    "data['family_status'].value_counts()#value occurrences after the change"
   ]
  },
  {
   "cell_type": "markdown",
   "metadata": {},
   "source": [
    "Now we can create our dictionary, that we will call 'marital_status_dict', and we will save to it the 'family_status' and 'family_status_id' from the main 'data' table. After removing duplicates, the dictionary is ready"
   ]
  },
  {
   "cell_type": "code",
   "execution_count": 52,
   "metadata": {},
   "outputs": [
    {
     "data": {
      "text/html": [
       "<div>\n",
       "<style scoped>\n",
       "    .dataframe tbody tr th:only-of-type {\n",
       "        vertical-align: middle;\n",
       "    }\n",
       "\n",
       "    .dataframe tbody tr th {\n",
       "        vertical-align: top;\n",
       "    }\n",
       "\n",
       "    .dataframe thead th {\n",
       "        text-align: right;\n",
       "    }\n",
       "</style>\n",
       "<table border=\"1\" class=\"dataframe\">\n",
       "  <thead>\n",
       "    <tr style=\"text-align: right;\">\n",
       "      <th></th>\n",
       "      <th>family_status</th>\n",
       "      <th>family_status_id</th>\n",
       "    </tr>\n",
       "  </thead>\n",
       "  <tbody>\n",
       "    <tr>\n",
       "      <td>0</td>\n",
       "      <td>married</td>\n",
       "      <td>0</td>\n",
       "    </tr>\n",
       "    <tr>\n",
       "      <td>1</td>\n",
       "      <td>civil partnership</td>\n",
       "      <td>1</td>\n",
       "    </tr>\n",
       "    <tr>\n",
       "      <td>4</td>\n",
       "      <td>widowed</td>\n",
       "      <td>2</td>\n",
       "    </tr>\n",
       "    <tr>\n",
       "      <td>3</td>\n",
       "      <td>divorced</td>\n",
       "      <td>3</td>\n",
       "    </tr>\n",
       "    <tr>\n",
       "      <td>2</td>\n",
       "      <td>unmarried</td>\n",
       "      <td>4</td>\n",
       "    </tr>\n",
       "  </tbody>\n",
       "</table>\n",
       "</div>"
      ],
      "text/plain": [
       "       family_status  family_status_id\n",
       "0            married                 0\n",
       "1  civil partnership                 1\n",
       "4            widowed                 2\n",
       "3           divorced                 3\n",
       "2          unmarried                 4"
      ]
     },
     "execution_count": 52,
     "metadata": {},
     "output_type": "execute_result"
    }
   ],
   "source": [
    "marital_status_dict = data[['family_status', 'family_status_id']]\n",
    "#creates a table called 'marital_status_dict' and saves to it the 'family_status' and 'family_status_id' columns\n",
    "#from the main 'data' table\n",
    "\n",
    "marital_status_dict = marital_status_dict.drop_duplicates().reset_index(drop=True).sort_values(by='family_status_id', ascending=True)\n",
    "#removes duplicate rows, resets the row numbering (index) and sorts the values in ascending order of the\n",
    "#'family_status_id' values\n",
    "\n",
    "marital_status_dict #displays the dictionary"
   ]
  },
  {
   "cell_type": "markdown",
   "metadata": {},
   "source": [
    "### Conclusion"
   ]
  },
  {
   "cell_type": "markdown",
   "metadata": {},
   "source": [
    "Our 'purpose' values were replaced with categorical 4 values: real estate, car purchase, wedding, and education. Dictionaries were created for the 'debt' and 'family_status_id' with the new 'debt_status' and the already existing 'family_status_id' columns respectively. 'children_status' and 'income_category' were created as category columns for 'children' and 'total_income' columns respectively since they used quantitative values"
   ]
  },
  {
   "cell_type": "markdown",
   "metadata": {},
   "source": [
    "<div class=\"alert alert-success\">\n",
    "<b>Success:</b> Good job!\n",
    "</div>\n"
   ]
  },
  {
   "cell_type": "markdown",
   "metadata": {},
   "source": [
    "### Step 3. Answer these questions"
   ]
  },
  {
   "cell_type": "markdown",
   "metadata": {},
   "source": [
    "- Is there a relation between having kids and repaying a loan on time?"
   ]
  },
  {
   "cell_type": "markdown",
   "metadata": {},
   "source": [
    "We created a categorical column 'children_status' with 2 values: 'children' and 'no children'. So we will have to group the table by the children_status values and get counts for those who paid on time and those who defaulted. Then we can calculate the default rates for those with kids and those without as percentages. First, the grouping:"
   ]
  },
  {
   "cell_type": "code",
   "execution_count": 53,
   "metadata": {},
   "outputs": [
    {
     "data": {
      "text/html": [
       "<div>\n",
       "<style scoped>\n",
       "    .dataframe tbody tr th:only-of-type {\n",
       "        vertical-align: middle;\n",
       "    }\n",
       "\n",
       "    .dataframe tbody tr th {\n",
       "        vertical-align: top;\n",
       "    }\n",
       "\n",
       "    .dataframe thead th {\n",
       "        text-align: right;\n",
       "    }\n",
       "</style>\n",
       "<table border=\"1\" class=\"dataframe\">\n",
       "  <thead>\n",
       "    <tr style=\"text-align: right;\">\n",
       "      <th></th>\n",
       "      <th></th>\n",
       "      <th>debt_status</th>\n",
       "    </tr>\n",
       "    <tr>\n",
       "      <th>children_status</th>\n",
       "      <th>debt_status</th>\n",
       "      <th></th>\n",
       "    </tr>\n",
       "  </thead>\n",
       "  <tbody>\n",
       "    <tr>\n",
       "      <td rowspan=\"2\" valign=\"top\">children</td>\n",
       "      <td>on time</td>\n",
       "      <td>6652</td>\n",
       "    </tr>\n",
       "    <tr>\n",
       "      <td>defaulted</td>\n",
       "      <td>677</td>\n",
       "    </tr>\n",
       "    <tr>\n",
       "      <td rowspan=\"2\" valign=\"top\">no children</td>\n",
       "      <td>on time</td>\n",
       "      <td>13086</td>\n",
       "    </tr>\n",
       "    <tr>\n",
       "      <td>defaulted</td>\n",
       "      <td>1063</td>\n",
       "    </tr>\n",
       "  </tbody>\n",
       "</table>\n",
       "</div>"
      ],
      "text/plain": [
       "                             debt_status\n",
       "children_status debt_status             \n",
       "children        on time             6652\n",
       "                defaulted            677\n",
       "no children     on time            13086\n",
       "                defaulted           1063"
      ]
     },
     "execution_count": 53,
     "metadata": {},
     "output_type": "execute_result"
    }
   ],
   "source": [
    "children_stats = pd.DataFrame(data.groupby('children_status')['debt_status'].value_counts())\n",
    "#creates a DataFrame called 'children_stats' where the table 'data' is grouped by \n",
    "#the 'children_status' column and counts each occurence of each debt_status value\n",
    "\n",
    "children_stats #displays the 'children_stats' table"
   ]
  },
  {
   "cell_type": "markdown",
   "metadata": {},
   "source": [
    "We notice how the 'children_status' and 'debt_status' values are indices. The debt_status counts make the column values. So to locate the amount of customers with children that defaulted, we will use: children_stats.loc['children', 'defaulted']['debt_status']. We will have to divide this by the total number of clients with children i.e children_stats.loc['children'].sum(). The result times 100 is our default rate. A similar process and syntax is used for those with no kids"
   ]
  },
  {
   "cell_type": "markdown",
   "metadata": {},
   "source": [
    "#### Default rate for those with kids:"
   ]
  },
  {
   "cell_type": "code",
   "execution_count": 54,
   "metadata": {},
   "outputs": [
    {
     "data": {
      "text/plain": [
       "debt_status    9.237277\n",
       "dtype: float64"
      ]
     },
     "execution_count": 54,
     "metadata": {},
     "output_type": "execute_result"
    }
   ],
   "source": [
    "default_fraction_kids = children_stats.loc['children', 'defaulted']['debt_status'] / children_stats.loc['children'].sum()\n",
    "#divides number of customers with children who defaulted by total number of customers with children\n",
    "\n",
    "default_rate_kids = default_fraction_kids * 100\n",
    "#calculates percentage\n",
    "\n",
    "default_rate_kids #displays default rate for customers who have children"
   ]
  },
  {
   "cell_type": "markdown",
   "metadata": {},
   "source": [
    "#### Default rate for those with no kids:"
   ]
  },
  {
   "cell_type": "code",
   "execution_count": 55,
   "metadata": {},
   "outputs": [
    {
     "data": {
      "text/plain": [
       "debt_status    7.512898\n",
       "dtype: float64"
      ]
     },
     "execution_count": 55,
     "metadata": {},
     "output_type": "execute_result"
    }
   ],
   "source": [
    "default_fraction_no_kids = children_stats.loc['no children', 'defaulted']['debt_status'] / children_stats.loc['no children'].sum()\n",
    "#divides number of customers with no children who defaulted by total number of customers with no children\n",
    "\n",
    "default_rate_no_kids = default_fraction_no_kids*100\n",
    "#calculates percentage\n",
    "\n",
    "default_rate_no_kids #displays default rate for customers who have children"
   ]
  },
  {
   "cell_type": "markdown",
   "metadata": {},
   "source": [
    "### Conclusion"
   ]
  },
  {
   "cell_type": "markdown",
   "metadata": {},
   "source": [
    "According to those findings, customers with kids are more likely to default on their loan (that is, not pay on time) than customers without kids. "
   ]
  },
  {
   "cell_type": "markdown",
   "metadata": {},
   "source": [
    "- Is there a relation between marital status and repaying a loan on time?"
   ]
  },
  {
   "cell_type": "markdown",
   "metadata": {},
   "source": [
    "The categorical column 'family_status' had 5 values: 'married', 'unmarried', 'divorced', 'widowed', and 'civil partnership'. So we will have to group the table by the family_status categories and get counts for those who paid on time and those who defaulted for each category. Then we can calculate the default rates for each category. First, the grouping:"
   ]
  },
  {
   "cell_type": "code",
   "execution_count": 56,
   "metadata": {},
   "outputs": [
    {
     "data": {
      "text/html": [
       "<div>\n",
       "<style scoped>\n",
       "    .dataframe tbody tr th:only-of-type {\n",
       "        vertical-align: middle;\n",
       "    }\n",
       "\n",
       "    .dataframe tbody tr th {\n",
       "        vertical-align: top;\n",
       "    }\n",
       "\n",
       "    .dataframe thead th {\n",
       "        text-align: right;\n",
       "    }\n",
       "</style>\n",
       "<table border=\"1\" class=\"dataframe\">\n",
       "  <thead>\n",
       "    <tr style=\"text-align: right;\">\n",
       "      <th></th>\n",
       "      <th></th>\n",
       "      <th>debt_status</th>\n",
       "    </tr>\n",
       "    <tr>\n",
       "      <th>family_status</th>\n",
       "      <th>debt_status</th>\n",
       "      <th></th>\n",
       "    </tr>\n",
       "  </thead>\n",
       "  <tbody>\n",
       "    <tr>\n",
       "      <td rowspan=\"2\" valign=\"top\">civil partnership</td>\n",
       "      <td>on time</td>\n",
       "      <td>3789</td>\n",
       "    </tr>\n",
       "    <tr>\n",
       "      <td>defaulted</td>\n",
       "      <td>388</td>\n",
       "    </tr>\n",
       "    <tr>\n",
       "      <td rowspan=\"2\" valign=\"top\">divorced</td>\n",
       "      <td>on time</td>\n",
       "      <td>1110</td>\n",
       "    </tr>\n",
       "    <tr>\n",
       "      <td>defaulted</td>\n",
       "      <td>85</td>\n",
       "    </tr>\n",
       "    <tr>\n",
       "      <td rowspan=\"2\" valign=\"top\">married</td>\n",
       "      <td>on time</td>\n",
       "      <td>11449</td>\n",
       "    </tr>\n",
       "    <tr>\n",
       "      <td>defaulted</td>\n",
       "      <td>931</td>\n",
       "    </tr>\n",
       "    <tr>\n",
       "      <td rowspan=\"2\" valign=\"top\">unmarried</td>\n",
       "      <td>on time</td>\n",
       "      <td>2539</td>\n",
       "    </tr>\n",
       "    <tr>\n",
       "      <td>defaulted</td>\n",
       "      <td>274</td>\n",
       "    </tr>\n",
       "    <tr>\n",
       "      <td rowspan=\"2\" valign=\"top\">widowed</td>\n",
       "      <td>on time</td>\n",
       "      <td>897</td>\n",
       "    </tr>\n",
       "    <tr>\n",
       "      <td>defaulted</td>\n",
       "      <td>63</td>\n",
       "    </tr>\n",
       "  </tbody>\n",
       "</table>\n",
       "</div>"
      ],
      "text/plain": [
       "                               debt_status\n",
       "family_status     debt_status             \n",
       "civil partnership on time             3789\n",
       "                  defaulted            388\n",
       "divorced          on time             1110\n",
       "                  defaulted             85\n",
       "married           on time            11449\n",
       "                  defaulted            931\n",
       "unmarried         on time             2539\n",
       "                  defaulted            274\n",
       "widowed           on time              897\n",
       "                  defaulted             63"
      ]
     },
     "execution_count": 56,
     "metadata": {},
     "output_type": "execute_result"
    }
   ],
   "source": [
    "marital_stats = pd.DataFrame(data.groupby('family_status')['debt_status'].value_counts())\n",
    "#creates a DataFrame called 'marital_stats' where the table 'data' is grouped by \n",
    "#the 'family_status' column and counts each occurence of each debt_status value\n",
    "\n",
    "marital_stats #displays the marital_stats table"
   ]
  },
  {
   "cell_type": "markdown",
   "metadata": {},
   "source": [
    "We notice how the 'family_status' and 'debt_status' values are indices. The debt_status counts make the column values. So to locate the amount of customers in a civil partnership that defaulted, we will use: marital_stats.loc['civil partnership', 'defaulted']['debt_status']. We will have to divide this by the total number of clients in a civil partnership i.e children_stats.loc['civil partnership'].sum(). The result times 100 is our default rate. A similar process and syntax is used for the other categories"
   ]
  },
  {
   "cell_type": "markdown",
   "metadata": {},
   "source": [
    "#### Civil Partnership Default Rate"
   ]
  },
  {
   "cell_type": "code",
   "execution_count": 57,
   "metadata": {},
   "outputs": [
    {
     "data": {
      "text/plain": [
       "debt_status    9.288963\n",
       "dtype: float64"
      ]
     },
     "execution_count": 57,
     "metadata": {},
     "output_type": "execute_result"
    }
   ],
   "source": [
    "default_fraction_cp = marital_stats.loc['civil partnership', 'defaulted']['debt_status'] / marital_stats.loc['civil partnership'].sum()\n",
    "#divides number of customers in a civil partnership who defaulted by total number of customers in\n",
    "#a civil partnership\n",
    "\n",
    "default_rate_cp = default_fraction_cp*100\n",
    "#calculates percentage\n",
    "\n",
    "default_rate_cp #default rate for those in civil partnership"
   ]
  },
  {
   "cell_type": "markdown",
   "metadata": {},
   "source": [
    "#### Divorced Default Rate"
   ]
  },
  {
   "cell_type": "code",
   "execution_count": 58,
   "metadata": {},
   "outputs": [
    {
     "data": {
      "text/plain": [
       "debt_status    7.112971\n",
       "dtype: float64"
      ]
     },
     "execution_count": 58,
     "metadata": {},
     "output_type": "execute_result"
    }
   ],
   "source": [
    "default_fraction_divorced = marital_stats.loc['divorced', 'defaulted']['debt_status'] / marital_stats.loc['divorced'].sum()\n",
    "#divides number of divorced customers who defaulted by total number of divorced customers\n",
    "\n",
    "default_rate_divorced = default_fraction_divorced*100\n",
    "#calculates percentage\n",
    "\n",
    "default_rate_divorced #displays default rate for divorced customers"
   ]
  },
  {
   "cell_type": "markdown",
   "metadata": {},
   "source": [
    "#### Married Default Rate"
   ]
  },
  {
   "cell_type": "code",
   "execution_count": 59,
   "metadata": {},
   "outputs": [
    {
     "data": {
      "text/plain": [
       "debt_status    7.520194\n",
       "dtype: float64"
      ]
     },
     "execution_count": 59,
     "metadata": {},
     "output_type": "execute_result"
    }
   ],
   "source": [
    "default_fraction_married = marital_stats.loc['married', 'defaulted']['debt_status'] / marital_stats.loc['married'].sum()\n",
    "#divides number of married customers who defaulted by total number of married customers\n",
    "\n",
    "default_rate_married = default_fraction_married*100\n",
    "#calculates percentage\n",
    "\n",
    "default_rate_married #displays default rate for married customers"
   ]
  },
  {
   "cell_type": "markdown",
   "metadata": {},
   "source": [
    "#### Unmarried Default Rate"
   ]
  },
  {
   "cell_type": "code",
   "execution_count": 60,
   "metadata": {},
   "outputs": [
    {
     "data": {
      "text/plain": [
       "debt_status    9.740491\n",
       "dtype: float64"
      ]
     },
     "execution_count": 60,
     "metadata": {},
     "output_type": "execute_result"
    }
   ],
   "source": [
    "default_fraction_unmarried = marital_stats.loc['unmarried', 'defaulted']['debt_status'] / marital_stats.loc['unmarried'].sum()\n",
    "#divides number of unmarried customers who defaulted by total number of unmarried customers\n",
    "\n",
    "default_rate_unmarried = default_fraction_unmarried*100\n",
    "#calculates the percentage\n",
    "\n",
    "default_rate_unmarried #deault rate for unmarried customers"
   ]
  },
  {
   "cell_type": "markdown",
   "metadata": {},
   "source": [
    "#### Widowed Default"
   ]
  },
  {
   "cell_type": "code",
   "execution_count": 61,
   "metadata": {},
   "outputs": [
    {
     "data": {
      "text/plain": [
       "debt_status    6.5625\n",
       "dtype: float64"
      ]
     },
     "execution_count": 61,
     "metadata": {},
     "output_type": "execute_result"
    }
   ],
   "source": [
    "default_fraction_widowed = marital_stats.loc['widowed', 'defaulted']['debt_status'] / marital_stats.loc['widowed'].sum()\n",
    "#divides number of widowed customers who defaulted by total number of widowed customers\n",
    "\n",
    "default_rate_widowed = default_fraction_widowed*100\n",
    "#calculates the percentage\n",
    "\n",
    "default_rate_widowed #displays the default rate for the widowed customers"
   ]
  },
  {
   "cell_type": "markdown",
   "metadata": {},
   "source": [
    "### Conclusion"
   ]
  },
  {
   "cell_type": "markdown",
   "metadata": {},
   "source": [
    "The highest default rates belong to the \"unmarried\" and \"civil partnership\" groups (both over 9%), followed by the married and divorced groups (7.5% and 7.1%). The lowest default rate belongs to the \"widowed\" group (6.5%)"
   ]
  },
  {
   "cell_type": "markdown",
   "metadata": {},
   "source": [
    "- Is there a relation between income level and repaying a loan on time?"
   ]
  },
  {
   "cell_type": "markdown",
   "metadata": {},
   "source": [
    "We created the categorical column 'income_category' with 2 category values: 'above median' and 'below median'. So we will have to group the 'data' table by the 'income_categories' categories and get counts for those who paid on time and those who defaulted for each category. Then we can calculate the default rates for each category. First, the grouping:"
   ]
  },
  {
   "cell_type": "code",
   "execution_count": 62,
   "metadata": {},
   "outputs": [
    {
     "data": {
      "text/html": [
       "<div>\n",
       "<style scoped>\n",
       "    .dataframe tbody tr th:only-of-type {\n",
       "        vertical-align: middle;\n",
       "    }\n",
       "\n",
       "    .dataframe tbody tr th {\n",
       "        vertical-align: top;\n",
       "    }\n",
       "\n",
       "    .dataframe thead th {\n",
       "        text-align: right;\n",
       "    }\n",
       "</style>\n",
       "<table border=\"1\" class=\"dataframe\">\n",
       "  <thead>\n",
       "    <tr style=\"text-align: right;\">\n",
       "      <th></th>\n",
       "      <th></th>\n",
       "      <th>debt_status</th>\n",
       "    </tr>\n",
       "    <tr>\n",
       "      <th>income_category</th>\n",
       "      <th>debt_status</th>\n",
       "      <th></th>\n",
       "    </tr>\n",
       "  </thead>\n",
       "  <tbody>\n",
       "    <tr>\n",
       "      <td rowspan=\"2\" valign=\"top\">above median</td>\n",
       "      <td>on time</td>\n",
       "      <td>8908</td>\n",
       "    </tr>\n",
       "    <tr>\n",
       "      <td>defaulted</td>\n",
       "      <td>767</td>\n",
       "    </tr>\n",
       "    <tr>\n",
       "      <td rowspan=\"2\" valign=\"top\">below median</td>\n",
       "      <td>on time</td>\n",
       "      <td>10876</td>\n",
       "    </tr>\n",
       "    <tr>\n",
       "      <td>defaulted</td>\n",
       "      <td>974</td>\n",
       "    </tr>\n",
       "  </tbody>\n",
       "</table>\n",
       "</div>"
      ],
      "text/plain": [
       "                             debt_status\n",
       "income_category debt_status             \n",
       "above median    on time             8908\n",
       "                defaulted            767\n",
       "below median    on time            10876\n",
       "                defaulted            974"
      ]
     },
     "execution_count": 62,
     "metadata": {},
     "output_type": "execute_result"
    }
   ],
   "source": [
    "income_stats = pd.DataFrame(data.groupby('income_category')['debt_status'].value_counts())\n",
    "#creates a DataFrame called 'income_stats' where the table 'data' is grouped by \n",
    "#the 'income_category' column and counts each occurence of each debt_status value\n",
    "\n",
    "income_stats #displays the table"
   ]
  },
  {
   "cell_type": "markdown",
   "metadata": {},
   "source": [
    "We notice how the 'income_category' and 'debt_status' values are indices. The debt_status counts make the column values. So to locate the amount of customers with income above the median that defaulted, we will use: income_stats.loc['above median', 'defaulted']['debt_status']. We will have to divide this by the total number of clients with above-median income i.e income_stats.loc['above median'].sum(). The result times 100 is our default rate. A similar process and syntax is used for the other category"
   ]
  },
  {
   "cell_type": "markdown",
   "metadata": {},
   "source": [
    "#### Default rate for Above-median income Customers"
   ]
  },
  {
   "cell_type": "code",
   "execution_count": 63,
   "metadata": {},
   "outputs": [
    {
     "data": {
      "text/plain": [
       "debt_status    7.927649\n",
       "dtype: float64"
      ]
     },
     "execution_count": 63,
     "metadata": {},
     "output_type": "execute_result"
    }
   ],
   "source": [
    "default_fraction_above_med = income_stats.loc['above median', 'defaulted']['debt_status']/income_stats.loc['above median'].sum()\n",
    "#divides number of customers with above-median income who defaulted by total number of\n",
    "#above-median income customers\n",
    "\n",
    "default_rate_above_med = default_fraction_above_med*100\n",
    "#calculates the percentage\n",
    "\n",
    "default_rate_above_med #displays the default rate for customers with above-median income"
   ]
  },
  {
   "cell_type": "markdown",
   "metadata": {},
   "source": [
    "#### Default rate for Below-median income Customers"
   ]
  },
  {
   "cell_type": "code",
   "execution_count": 64,
   "metadata": {},
   "outputs": [
    {
     "data": {
      "text/plain": [
       "debt_status    8.219409\n",
       "dtype: float64"
      ]
     },
     "execution_count": 64,
     "metadata": {},
     "output_type": "execute_result"
    }
   ],
   "source": [
    "default_fraction_below_med = income_stats.loc['below median', 'defaulted']['debt_status']/income_stats.loc['below median'].sum()\n",
    "#divides number of customers with below-median income who defaulted by total number of\n",
    "#below-median income customers\n",
    "\n",
    "default_rate_below_med = default_fraction_below_med*100\n",
    "#calculates the percentage\n",
    "\n",
    "default_rate_below_med #displays the default rate for customers with above-median income"
   ]
  },
  {
   "cell_type": "markdown",
   "metadata": {},
   "source": [
    "Just to remind ourselves what this median income is"
   ]
  },
  {
   "cell_type": "code",
   "execution_count": 65,
   "metadata": {},
   "outputs": [
    {
     "data": {
      "text/plain": [
       "23202.0"
      ]
     },
     "execution_count": 65,
     "metadata": {},
     "output_type": "execute_result"
    }
   ],
   "source": [
    "data['total_income'].median()"
   ]
  },
  {
   "cell_type": "markdown",
   "metadata": {},
   "source": [
    "### Conclusion"
   ]
  },
  {
   "cell_type": "markdown",
   "metadata": {},
   "source": [
    "Customers whose income level is above the median are slightly less likely to default on their loans than those below the median"
   ]
  },
  {
   "cell_type": "markdown",
   "metadata": {},
   "source": [
    "- How do different loan purposes affect on-time repayment of the loan?"
   ]
  },
  {
   "cell_type": "markdown",
   "metadata": {},
   "source": [
    "We filled the 'purpose' column with 4 category values: 'wedding', 'car purchase', 'real estate', and 'education'. So we will have to group the 'data' table by the 'purpose' categories and get counts for those who paid on time and those who defaulted for each category. Then we can calculate the default rates for each category. First, the grouping:"
   ]
  },
  {
   "cell_type": "code",
   "execution_count": 66,
   "metadata": {
    "scrolled": true
   },
   "outputs": [
    {
     "data": {
      "text/html": [
       "<div>\n",
       "<style scoped>\n",
       "    .dataframe tbody tr th:only-of-type {\n",
       "        vertical-align: middle;\n",
       "    }\n",
       "\n",
       "    .dataframe tbody tr th {\n",
       "        vertical-align: top;\n",
       "    }\n",
       "\n",
       "    .dataframe thead th {\n",
       "        text-align: right;\n",
       "    }\n",
       "</style>\n",
       "<table border=\"1\" class=\"dataframe\">\n",
       "  <thead>\n",
       "    <tr style=\"text-align: right;\">\n",
       "      <th></th>\n",
       "      <th></th>\n",
       "      <th>debt_status</th>\n",
       "    </tr>\n",
       "    <tr>\n",
       "      <th>purpose</th>\n",
       "      <th>debt_status</th>\n",
       "      <th></th>\n",
       "    </tr>\n",
       "  </thead>\n",
       "  <tbody>\n",
       "    <tr>\n",
       "      <td rowspan=\"2\" valign=\"top\">car purchase</td>\n",
       "      <td>on time</td>\n",
       "      <td>3912</td>\n",
       "    </tr>\n",
       "    <tr>\n",
       "      <td>defaulted</td>\n",
       "      <td>403</td>\n",
       "    </tr>\n",
       "    <tr>\n",
       "      <td rowspan=\"2\" valign=\"top\">education</td>\n",
       "      <td>on time</td>\n",
       "      <td>3652</td>\n",
       "    </tr>\n",
       "    <tr>\n",
       "      <td>defaulted</td>\n",
       "      <td>370</td>\n",
       "    </tr>\n",
       "    <tr>\n",
       "      <td rowspan=\"2\" valign=\"top\">real estate</td>\n",
       "      <td>on time</td>\n",
       "      <td>10058</td>\n",
       "    </tr>\n",
       "    <tr>\n",
       "      <td>defaulted</td>\n",
       "      <td>782</td>\n",
       "    </tr>\n",
       "    <tr>\n",
       "      <td rowspan=\"2\" valign=\"top\">wedding</td>\n",
       "      <td>on time</td>\n",
       "      <td>2162</td>\n",
       "    </tr>\n",
       "    <tr>\n",
       "      <td>defaulted</td>\n",
       "      <td>186</td>\n",
       "    </tr>\n",
       "  </tbody>\n",
       "</table>\n",
       "</div>"
      ],
      "text/plain": [
       "                          debt_status\n",
       "purpose      debt_status             \n",
       "car purchase on time             3912\n",
       "             defaulted            403\n",
       "education    on time             3652\n",
       "             defaulted            370\n",
       "real estate  on time            10058\n",
       "             defaulted            782\n",
       "wedding      on time             2162\n",
       "             defaulted            186"
      ]
     },
     "execution_count": 66,
     "metadata": {},
     "output_type": "execute_result"
    }
   ],
   "source": [
    "purpose_stats = pd.DataFrame(data.groupby('purpose')['debt_status'].value_counts())\n",
    "#creates a DataFrame called 'purpose_stats' where the table 'data' is grouped by \n",
    "#the 'purpose' column and counts each occurence of each debt_status value\n",
    "\n",
    "purpose_stats #displays the the purpose_stats table"
   ]
  },
  {
   "cell_type": "markdown",
   "metadata": {},
   "source": [
    "We notice how the 'purpose' and 'debt_status' values are indices. The debt_status counts make the column values. So to locate the amount of customers whose purpose of taking a loan was car purchase that defaulted, we will use: purpose_stats.loc['car purchase', 'defaulted']['debt_status']. We will have to divide this by the total number of clients who took out loans for car purchase i.e income_stats.loc['car purchase'].sum(). The result times 100 is our default rate. A similar process and syntax is used for the other categories"
   ]
  },
  {
   "cell_type": "markdown",
   "metadata": {},
   "source": [
    "#### Default Rate for Car Purchase Loans"
   ]
  },
  {
   "cell_type": "code",
   "execution_count": 67,
   "metadata": {},
   "outputs": [
    {
     "data": {
      "text/plain": [
       "debt_status    9.339513\n",
       "dtype: float64"
      ]
     },
     "execution_count": 67,
     "metadata": {},
     "output_type": "execute_result"
    }
   ],
   "source": [
    "default_fraction_car_purchase = purpose_stats.loc['car purchase', 'defaulted']['debt_status']/purpose_stats.loc['car purchase'].sum()\n",
    "#divides number of customers that took out loans for car purchases who defaulted by total number of\n",
    "#customers who took out loans for car purchases\n",
    "\n",
    "default_rate_car_purchase = default_fraction_car_purchase*100\n",
    "#calculates the percentage\n",
    "\n",
    "default_rate_car_purchase\n",
    "#displays default rate for car purchase loans"
   ]
  },
  {
   "cell_type": "markdown",
   "metadata": {},
   "source": [
    "#### Default Rate for Education Loans"
   ]
  },
  {
   "cell_type": "code",
   "execution_count": 68,
   "metadata": {},
   "outputs": [
    {
     "data": {
      "text/plain": [
       "debt_status    9.199403\n",
       "dtype: float64"
      ]
     },
     "execution_count": 68,
     "metadata": {},
     "output_type": "execute_result"
    }
   ],
   "source": [
    "default_fraction_education = purpose_stats.loc['education', 'defaulted']['debt_status']/purpose_stats.loc['education'].sum()\n",
    "#divides number of education loans that defaulted by total number of education loans\n",
    "\n",
    "default_rate_education = default_fraction_education*100\n",
    "#calculates the percentage\n",
    "\n",
    "default_rate_education #default rate for education loans"
   ]
  },
  {
   "cell_type": "markdown",
   "metadata": {},
   "source": [
    "#### Default Rate for Real Estate Loans"
   ]
  },
  {
   "cell_type": "code",
   "execution_count": 69,
   "metadata": {},
   "outputs": [
    {
     "data": {
      "text/plain": [
       "debt_status    7.214022\n",
       "dtype: float64"
      ]
     },
     "execution_count": 69,
     "metadata": {},
     "output_type": "execute_result"
    }
   ],
   "source": [
    "default_fraction_real_estate = purpose_stats.loc['real estate', 'defaulted']['debt_status']/purpose_stats.loc['real estate'].sum()\n",
    "#divides number of real estate loans that defaulted by total number of real estate loans\n",
    "\n",
    "default_rate_real_estate = default_fraction_real_estate*100\n",
    "#calculates the percentage\n",
    "\n",
    "default_rate_real_estate #displays the default rate for real estate loans"
   ]
  },
  {
   "cell_type": "markdown",
   "metadata": {},
   "source": [
    "#### Default Rate for Wedding Loans"
   ]
  },
  {
   "cell_type": "code",
   "execution_count": 70,
   "metadata": {},
   "outputs": [
    {
     "data": {
      "text/plain": [
       "debt_status    7.921635\n",
       "dtype: float64"
      ]
     },
     "execution_count": 70,
     "metadata": {},
     "output_type": "execute_result"
    }
   ],
   "source": [
    "default_fraction_wedding = purpose_stats.loc['wedding', 'defaulted']['debt_status']/purpose_stats.loc['wedding'].sum()\n",
    "#divides number of wedding loans that defaulted by total number of wedding loans\n",
    "\n",
    "default_rate_wedding = default_fraction_wedding*100 #calculates the percentage\n",
    "default_rate_wedding #displays the default rate for wedding loans"
   ]
  },
  {
   "cell_type": "markdown",
   "metadata": {},
   "source": [
    "### Conclusion"
   ]
  },
  {
   "cell_type": "markdown",
   "metadata": {},
   "source": [
    "Default rates for car loans and education loans are the highest (above 9%), followed by wedding loans (about 8%), and the lowest being real estate loans (just above 7%)"
   ]
  },
  {
   "cell_type": "markdown",
   "metadata": {},
   "source": [
    "<div class=\"alert alert-success\">\n",
    "<b>Success:</b> Excellent work! You were able to highlight key features and provide recommendations. I recommend that you make more focus in your conclusions on the results of your observations than on technical details.\n",
    "</div>"
   ]
  },
  {
   "cell_type": "markdown",
   "metadata": {},
   "source": [
    "### Step 4. General conclusion"
   ]
  },
  {
   "cell_type": "markdown",
   "metadata": {},
   "source": [
    "We have worked with data on customers' income, loan purpose, debt status, family status, and children status. We filled missing values in the total income column with the median, we categorized the loan purposes into car purchase, wedding, education and real estate. We created dictionaries for family status, children, and debt. We grouped the main data table by purpose, family status, children status, and income category. We found the default rates for each category in each of those columns. We found that:\n",
    "\n",
    "Default rates for car loans and education loans are the highest (above 9%), followed by wedding loans (about 8%), and the lowest being real estate loans (just above 7%); customers whose income level is above the median (i.e 23202) are slightly less likely (7.9%) to default on their loans than those below the median(8.2%); the highest default rates with respect to family status belong to the \"unmarried\" and \"civil partnership\" groups (both over 9%), followed by the married and divorced groups (7.5% and 7.1%), the lowest default rate belongs to the \"widowed\" group (6.5%); and customers customers with kids are more likely(9.2%) to default on their loan (that is, not pay on time) than customers without kids(7.5%). The bank will find the categories with lower default rates more credit worthy i.e No kids, High Income, widowed, and taking a loan for real estate. Least favorable will be those from high default rate categories i.e having kids, low income, unmarried or in a civil partnership, and taking a car or education loan.\n",
    "\n"
   ]
  },
  {
   "cell_type": "markdown",
   "metadata": {},
   "source": [
    "<div class=\"alert alert-success\">\n",
    "<b>Success:</b> God job, Chris! It was a pleasure to review your work.\n",
    "</div>"
   ]
  },
  {
   "cell_type": "markdown",
   "metadata": {},
   "source": [
    "### Project Readiness Checklist\n",
    "\n",
    "Put 'x' in the completed points. Then press Shift + Enter."
   ]
  },
  {
   "cell_type": "markdown",
   "metadata": {},
   "source": [
    "- [x]  file open;\n",
    "- [ ]  file examined;\n",
    "- [ ]  missing values defined;\n",
    "- [ ]  missing values are filled;\n",
    "- [ ]  an explanation of which missing value types were detected;\n",
    "- [ ]  explanation for the possible causes of missing values;\n",
    "- [ ]  an explanation of how the blanks are filled;\n",
    "- [ ]  replaced the real data type with an integer;\n",
    "- [ ]  an explanation of which method is used to change the data type and why;\n",
    "- [ ]  duplicates deleted;\n",
    "- [ ]  an explanation of which method is used to find and remove duplicates;\n",
    "- [ ]  description of the possible reasons for the appearance of duplicates in the data;\n",
    "- [ ]  data is categorized;\n",
    "- [ ]  an explanation of the principle of data categorization;\n",
    "- [ ]  an answer to the question \"Is there a relation between having kids and repaying a loan on time?\";\n",
    "- [ ]  an answer to the question \" Is there a relation between marital status and repaying a loan on time?\";\n",
    "- [ ]   an answer to the question \" Is there a relation between income level and repaying a loan on time?\";\n",
    "- [ ]  an answer to the question \" How do different loan purposes affect on-time repayment of the loan?\"\n",
    "- [ ]  conclusions are present on each stage;\n",
    "- [ ]  a general conclusion is made."
   ]
  }
 ],
 "metadata": {
  "kernelspec": {
   "display_name": "Python 3",
   "language": "python",
   "name": "python3"
  },
  "language_info": {
   "codemirror_mode": {
    "name": "ipython",
    "version": 3
   },
   "file_extension": ".py",
   "mimetype": "text/x-python",
   "name": "python",
   "nbconvert_exporter": "python",
   "pygments_lexer": "ipython3",
   "version": "3.7.8"
  },
  "toc": {
   "base_numbering": 1,
   "nav_menu": {},
   "number_sections": true,
   "sideBar": true,
   "skip_h1_title": true,
   "title_cell": "Table of Contents",
   "title_sidebar": "Contents",
   "toc_cell": false,
   "toc_position": {},
   "toc_section_display": true,
   "toc_window_display": false
  }
 },
 "nbformat": 4,
 "nbformat_minor": 2
}
