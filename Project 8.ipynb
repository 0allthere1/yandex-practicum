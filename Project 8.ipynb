{
 "cells": [
  {
   "cell_type": "markdown",
   "metadata": {},
   "source": [
    "# Picking a region with the highest profit margin"
   ]
  },
  {
   "cell_type": "markdown",
   "metadata": {},
   "source": [
    "We have data on the oil reserves in 3 regions (1 dataset for each region). We will train a Linear Regression model for each of them to predict the volume it will contain, calculate revenues for each region and decide, using our findings, the region with the highest profit margin "
   ]
  },
  {
   "cell_type": "markdown",
   "metadata": {},
   "source": [
    "# Table of Contents\n",
    "- [General Information](#step1)\n",
    "- [Splitting data and model training](#step2)\n",
    "- [Break-Even volume for each well](#step3)\n",
    "- [Profit from selected wells and model predictions](#step4)\n",
    "- [Risks and profit for each region](#step5)\n",
    "- [Conclusion](#step6)"
   ]
  },
  {
   "cell_type": "markdown",
   "metadata": {},
   "source": [
    "## General Information <a name=\"step1\"></a>"
   ]
  },
  {
   "cell_type": "markdown",
   "metadata": {},
   "source": [
    "Let us first import the libraries needed"
   ]
  },
  {
   "cell_type": "code",
   "execution_count": 1,
   "metadata": {},
   "outputs": [],
   "source": [
    "import pandas as pd #for dealing with dataframes\n",
    "from sklearn.linear_model import LinearRegression #to deal with Linear Regression Models\n",
    "from sklearn.model_selection import train_test_split #to be able to split datasets\n",
    "from sklearn.metrics import mean_squared_error #to be able to calculate model's mean squared error\n",
    "from scipy import stats as st #for statistic functions\n",
    "import numpy as np #for number arrays\n",
    "import matplotlib.pyplot as plt #for graphical representation\n",
    "import seaborn as sns #for graphical representation"
   ]
  },
  {
   "cell_type": "markdown",
   "metadata": {},
   "source": [
    "Now we can use the pd.read_csv() method to save the datasets as dataframes "
   ]
  },
  {
   "cell_type": "code",
   "execution_count": 2,
   "metadata": {},
   "outputs": [],
   "source": [
    "data_0=pd.read_csv('/datasets/geo_data_0.csv')\n",
    "#reads the geo_data_0 set and saves it as a dataframe called data_0\n",
    "data_1=pd.read_csv('/datasets/geo_data_1.csv')\n",
    "#reads the geo_data_1 set and saves it as a dataframe called data_1\n",
    "data_2=pd.read_csv('/datasets/geo_data_2.csv')\n",
    "#reads the geo_data_2 set and saves it as a dataframe called data_2"
   ]
  },
  {
   "cell_type": "markdown",
   "metadata": {},
   "source": [
    "Let us now look through the data in each dataset"
   ]
  },
  {
   "cell_type": "code",
   "execution_count": 3,
   "metadata": {},
   "outputs": [
    {
     "data": {
      "text/html": [
       "<div>\n",
       "<style scoped>\n",
       "    .dataframe tbody tr th:only-of-type {\n",
       "        vertical-align: middle;\n",
       "    }\n",
       "\n",
       "    .dataframe tbody tr th {\n",
       "        vertical-align: top;\n",
       "    }\n",
       "\n",
       "    .dataframe thead th {\n",
       "        text-align: right;\n",
       "    }\n",
       "</style>\n",
       "<table border=\"1\" class=\"dataframe\">\n",
       "  <thead>\n",
       "    <tr style=\"text-align: right;\">\n",
       "      <th></th>\n",
       "      <th>id</th>\n",
       "      <th>f0</th>\n",
       "      <th>f1</th>\n",
       "      <th>f2</th>\n",
       "      <th>product</th>\n",
       "    </tr>\n",
       "  </thead>\n",
       "  <tbody>\n",
       "    <tr>\n",
       "      <td>0</td>\n",
       "      <td>txEyH</td>\n",
       "      <td>0.705745</td>\n",
       "      <td>-0.497823</td>\n",
       "      <td>1.221170</td>\n",
       "      <td>105.280062</td>\n",
       "    </tr>\n",
       "    <tr>\n",
       "      <td>1</td>\n",
       "      <td>2acmU</td>\n",
       "      <td>1.334711</td>\n",
       "      <td>-0.340164</td>\n",
       "      <td>4.365080</td>\n",
       "      <td>73.037750</td>\n",
       "    </tr>\n",
       "    <tr>\n",
       "      <td>2</td>\n",
       "      <td>409Wp</td>\n",
       "      <td>1.022732</td>\n",
       "      <td>0.151990</td>\n",
       "      <td>1.419926</td>\n",
       "      <td>85.265647</td>\n",
       "    </tr>\n",
       "    <tr>\n",
       "      <td>3</td>\n",
       "      <td>iJLyR</td>\n",
       "      <td>-0.032172</td>\n",
       "      <td>0.139033</td>\n",
       "      <td>2.978566</td>\n",
       "      <td>168.620776</td>\n",
       "    </tr>\n",
       "    <tr>\n",
       "      <td>4</td>\n",
       "      <td>Xdl7t</td>\n",
       "      <td>1.988431</td>\n",
       "      <td>0.155413</td>\n",
       "      <td>4.751769</td>\n",
       "      <td>154.036647</td>\n",
       "    </tr>\n",
       "  </tbody>\n",
       "</table>\n",
       "</div>"
      ],
      "text/plain": [
       "      id        f0        f1        f2     product\n",
       "0  txEyH  0.705745 -0.497823  1.221170  105.280062\n",
       "1  2acmU  1.334711 -0.340164  4.365080   73.037750\n",
       "2  409Wp  1.022732  0.151990  1.419926   85.265647\n",
       "3  iJLyR -0.032172  0.139033  2.978566  168.620776\n",
       "4  Xdl7t  1.988431  0.155413  4.751769  154.036647"
      ]
     },
     "execution_count": 3,
     "metadata": {},
     "output_type": "execute_result"
    }
   ],
   "source": [
    "data_0.head() #first 5 rows of data_0"
   ]
  },
  {
   "cell_type": "code",
   "execution_count": 4,
   "metadata": {},
   "outputs": [
    {
     "name": "stdout",
     "output_type": "stream",
     "text": [
      "<class 'pandas.core.frame.DataFrame'>\n",
      "RangeIndex: 100000 entries, 0 to 99999\n",
      "Data columns (total 5 columns):\n",
      "id         100000 non-null object\n",
      "f0         100000 non-null float64\n",
      "f1         100000 non-null float64\n",
      "f2         100000 non-null float64\n",
      "product    100000 non-null float64\n",
      "dtypes: float64(4), object(1)\n",
      "memory usage: 3.8+ MB\n"
     ]
    }
   ],
   "source": [
    "data_0.info() #general info on data_0"
   ]
  },
  {
   "cell_type": "code",
   "execution_count": 5,
   "metadata": {},
   "outputs": [
    {
     "data": {
      "text/html": [
       "<div>\n",
       "<style scoped>\n",
       "    .dataframe tbody tr th:only-of-type {\n",
       "        vertical-align: middle;\n",
       "    }\n",
       "\n",
       "    .dataframe tbody tr th {\n",
       "        vertical-align: top;\n",
       "    }\n",
       "\n",
       "    .dataframe thead th {\n",
       "        text-align: right;\n",
       "    }\n",
       "</style>\n",
       "<table border=\"1\" class=\"dataframe\">\n",
       "  <thead>\n",
       "    <tr style=\"text-align: right;\">\n",
       "      <th></th>\n",
       "      <th>id</th>\n",
       "      <th>f0</th>\n",
       "      <th>f1</th>\n",
       "      <th>f2</th>\n",
       "      <th>product</th>\n",
       "    </tr>\n",
       "  </thead>\n",
       "  <tbody>\n",
       "    <tr>\n",
       "      <td>0</td>\n",
       "      <td>kBEdx</td>\n",
       "      <td>-15.001348</td>\n",
       "      <td>-8.276000</td>\n",
       "      <td>-0.005876</td>\n",
       "      <td>3.179103</td>\n",
       "    </tr>\n",
       "    <tr>\n",
       "      <td>1</td>\n",
       "      <td>62mP7</td>\n",
       "      <td>14.272088</td>\n",
       "      <td>-3.475083</td>\n",
       "      <td>0.999183</td>\n",
       "      <td>26.953261</td>\n",
       "    </tr>\n",
       "    <tr>\n",
       "      <td>2</td>\n",
       "      <td>vyE1P</td>\n",
       "      <td>6.263187</td>\n",
       "      <td>-5.948386</td>\n",
       "      <td>5.001160</td>\n",
       "      <td>134.766305</td>\n",
       "    </tr>\n",
       "    <tr>\n",
       "      <td>3</td>\n",
       "      <td>KcrkZ</td>\n",
       "      <td>-13.081196</td>\n",
       "      <td>-11.506057</td>\n",
       "      <td>4.999415</td>\n",
       "      <td>137.945408</td>\n",
       "    </tr>\n",
       "    <tr>\n",
       "      <td>4</td>\n",
       "      <td>AHL4O</td>\n",
       "      <td>12.702195</td>\n",
       "      <td>-8.147433</td>\n",
       "      <td>5.004363</td>\n",
       "      <td>134.766305</td>\n",
       "    </tr>\n",
       "  </tbody>\n",
       "</table>\n",
       "</div>"
      ],
      "text/plain": [
       "      id         f0         f1        f2     product\n",
       "0  kBEdx -15.001348  -8.276000 -0.005876    3.179103\n",
       "1  62mP7  14.272088  -3.475083  0.999183   26.953261\n",
       "2  vyE1P   6.263187  -5.948386  5.001160  134.766305\n",
       "3  KcrkZ -13.081196 -11.506057  4.999415  137.945408\n",
       "4  AHL4O  12.702195  -8.147433  5.004363  134.766305"
      ]
     },
     "execution_count": 5,
     "metadata": {},
     "output_type": "execute_result"
    }
   ],
   "source": [
    "data_1.head()"
   ]
  },
  {
   "cell_type": "code",
   "execution_count": 6,
   "metadata": {},
   "outputs": [
    {
     "name": "stdout",
     "output_type": "stream",
     "text": [
      "<class 'pandas.core.frame.DataFrame'>\n",
      "RangeIndex: 100000 entries, 0 to 99999\n",
      "Data columns (total 5 columns):\n",
      "id         100000 non-null object\n",
      "f0         100000 non-null float64\n",
      "f1         100000 non-null float64\n",
      "f2         100000 non-null float64\n",
      "product    100000 non-null float64\n",
      "dtypes: float64(4), object(1)\n",
      "memory usage: 3.8+ MB\n"
     ]
    }
   ],
   "source": [
    "data_1.info()"
   ]
  },
  {
   "cell_type": "code",
   "execution_count": 7,
   "metadata": {},
   "outputs": [
    {
     "data": {
      "text/html": [
       "<div>\n",
       "<style scoped>\n",
       "    .dataframe tbody tr th:only-of-type {\n",
       "        vertical-align: middle;\n",
       "    }\n",
       "\n",
       "    .dataframe tbody tr th {\n",
       "        vertical-align: top;\n",
       "    }\n",
       "\n",
       "    .dataframe thead th {\n",
       "        text-align: right;\n",
       "    }\n",
       "</style>\n",
       "<table border=\"1\" class=\"dataframe\">\n",
       "  <thead>\n",
       "    <tr style=\"text-align: right;\">\n",
       "      <th></th>\n",
       "      <th>id</th>\n",
       "      <th>f0</th>\n",
       "      <th>f1</th>\n",
       "      <th>f2</th>\n",
       "      <th>product</th>\n",
       "    </tr>\n",
       "  </thead>\n",
       "  <tbody>\n",
       "    <tr>\n",
       "      <td>0</td>\n",
       "      <td>fwXo0</td>\n",
       "      <td>-1.146987</td>\n",
       "      <td>0.963328</td>\n",
       "      <td>-0.828965</td>\n",
       "      <td>27.758673</td>\n",
       "    </tr>\n",
       "    <tr>\n",
       "      <td>1</td>\n",
       "      <td>WJtFt</td>\n",
       "      <td>0.262778</td>\n",
       "      <td>0.269839</td>\n",
       "      <td>-2.530187</td>\n",
       "      <td>56.069697</td>\n",
       "    </tr>\n",
       "    <tr>\n",
       "      <td>2</td>\n",
       "      <td>ovLUW</td>\n",
       "      <td>0.194587</td>\n",
       "      <td>0.289035</td>\n",
       "      <td>-5.586433</td>\n",
       "      <td>62.871910</td>\n",
       "    </tr>\n",
       "    <tr>\n",
       "      <td>3</td>\n",
       "      <td>q6cA6</td>\n",
       "      <td>2.236060</td>\n",
       "      <td>-0.553760</td>\n",
       "      <td>0.930038</td>\n",
       "      <td>114.572842</td>\n",
       "    </tr>\n",
       "    <tr>\n",
       "      <td>4</td>\n",
       "      <td>WPMUX</td>\n",
       "      <td>-0.515993</td>\n",
       "      <td>1.716266</td>\n",
       "      <td>5.899011</td>\n",
       "      <td>149.600746</td>\n",
       "    </tr>\n",
       "  </tbody>\n",
       "</table>\n",
       "</div>"
      ],
      "text/plain": [
       "      id        f0        f1        f2     product\n",
       "0  fwXo0 -1.146987  0.963328 -0.828965   27.758673\n",
       "1  WJtFt  0.262778  0.269839 -2.530187   56.069697\n",
       "2  ovLUW  0.194587  0.289035 -5.586433   62.871910\n",
       "3  q6cA6  2.236060 -0.553760  0.930038  114.572842\n",
       "4  WPMUX -0.515993  1.716266  5.899011  149.600746"
      ]
     },
     "execution_count": 7,
     "metadata": {},
     "output_type": "execute_result"
    }
   ],
   "source": [
    "data_2.head()"
   ]
  },
  {
   "cell_type": "code",
   "execution_count": 8,
   "metadata": {},
   "outputs": [
    {
     "name": "stdout",
     "output_type": "stream",
     "text": [
      "<class 'pandas.core.frame.DataFrame'>\n",
      "RangeIndex: 100000 entries, 0 to 99999\n",
      "Data columns (total 5 columns):\n",
      "id         100000 non-null object\n",
      "f0         100000 non-null float64\n",
      "f1         100000 non-null float64\n",
      "f2         100000 non-null float64\n",
      "product    100000 non-null float64\n",
      "dtypes: float64(4), object(1)\n",
      "memory usage: 3.8+ MB\n"
     ]
    }
   ],
   "source": [
    "data_2.info()"
   ]
  },
  {
   "cell_type": "markdown",
   "metadata": {},
   "source": [
    "After looking through the datasets, we find no missing values; always a welcome sight. Our target will always be the 'product' column, and the rest of the columns will be the features. "
   ]
  },
  {
   "cell_type": "markdown",
   "metadata": {},
   "source": [
    "## Splitting data and model training <a name=\"step2\"></a>"
   ]
  },
  {
   "cell_type": "markdown",
   "metadata": {},
   "source": [
    "We can first of all create a function that takes 4 data splits as arguments (i.e training features and target, validation features and target), trains a Linear Regression model and returns the root mean squared error and the predictions. Then, for each dataset, we can do the actual data splitting and call our defined function to train a model. First, the function:"
   ]
  },
  {
   "cell_type": "code",
   "execution_count": 9,
   "metadata": {},
   "outputs": [],
   "source": [
    "def lr_model(f_train, f_valid, t_train, t_valid):\n",
    "    #creates a function that takes 4 data splits as arguments\n",
    "    lr = LinearRegression().fit(f_train, t_train)\n",
    "    #trains a linear regression model using the training splits\n",
    "    t_pred = lr.predict(f_valid)\n",
    "    #uses the trained model to get predictions for the validation features\n",
    "    rmse=(mean_squared_error(t_valid, t_pred))**0.5\n",
    "    #calculates the root mean squared error between the validation target and predictions\n",
    "    return rmse, t_pred #returns the root mean squared error and the predictions"
   ]
  },
  {
   "cell_type": "markdown",
   "metadata": {},
   "source": [
    "Now we can do the splitting (75% training, 25% validation). The id column in each set is unique for each reserve, so it won't really help the learning process so we will drop it. After we will train models for them by passing the 4 splits as arguments to our lr_model function. We can get the root mean squared error and the mean of the predictions. For region 0:"
   ]
  },
  {
   "cell_type": "code",
   "execution_count": 10,
   "metadata": {},
   "outputs": [
    {
     "name": "stdout",
     "output_type": "stream",
     "text": [
      "RMSE: 37.5794217150813 ; Average predicted volume: 92.59256778438038\n"
     ]
    }
   ],
   "source": [
    "features0=data_0.drop(['id', 'product'], axis=1)\n",
    "#defines features by dropping the id and product columns\n",
    "target0=data_0['product'] #target will be the product column\n",
    "f_train0, f_valid0, t_train0, t_valid0 = train_test_split(features0, target0, test_size=0.25, \\\n",
    "                                                          random_state=12345)\n",
    "#splits the features and targets, 75% for training and 25% for validation\n",
    "rmse0, pred0 = lr_model(f_train0, f_valid0, t_train0, t_valid0)\n",
    "#passes the 4 splits to our lr_model function to get the rmse and the predictions\n",
    "print('RMSE:', rmse0, '; Average predicted volume:', pred0.mean())\n",
    "#prints out the rmse and the mean of the predictions "
   ]
  },
  {
   "cell_type": "markdown",
   "metadata": {},
   "source": [
    "For region 0, the RMSE is 37.58 and the mean prediction is 92.59.\n",
    "Onto region 1:"
   ]
  },
  {
   "cell_type": "code",
   "execution_count": 11,
   "metadata": {
    "scrolled": true
   },
   "outputs": [
    {
     "name": "stdout",
     "output_type": "stream",
     "text": [
      "RMSE: 0.893099286775616 ; Average predicted volume: 68.728546895446\n"
     ]
    }
   ],
   "source": [
    "features1=data_1.drop(['id', 'product'], axis=1)\n",
    "target1=data_1['product']\n",
    "f_train1, f_valid1, t_train1, t_valid1 = train_test_split(features1, target1, test_size=0.25, \\\n",
    "                                                          random_state=12345)\n",
    "rmse1, pred1 = lr_model(f_train1, f_valid1, t_train1, t_valid1)\n",
    "print('RMSE:', rmse1, '; Average predicted volume:', pred1.mean())"
   ]
  },
  {
   "cell_type": "markdown",
   "metadata": {},
   "source": [
    "For region 1, the RMSE is 0.89 and the mean prediction is 68.73. Onto region 2:"
   ]
  },
  {
   "cell_type": "code",
   "execution_count": 12,
   "metadata": {
    "scrolled": true
   },
   "outputs": [
    {
     "name": "stdout",
     "output_type": "stream",
     "text": [
      "RMSE: 40.02970873393434 ; Average predicted volume: 94.96504596800489\n"
     ]
    }
   ],
   "source": [
    "features2=data_2.drop(['id', 'product'], axis=1)\n",
    "target2=data_2['product']\n",
    "f_train2, f_valid2, t_train2, t_valid2 = train_test_split(features2, target2, test_size=0.25, \\\n",
    "                                                          random_state=12345)\n",
    "rmse2, pred2 = lr_model(f_train2, f_valid2, t_train2, t_valid2)\n",
    "print('RMSE:', rmse2, '; Average predicted volume:', pred2.mean())"
   ]
  },
  {
   "cell_type": "markdown",
   "metadata": {},
   "source": [
    "For region 0, the RMSE is 40.03 and the mean prediction is 94.96. From a RMSE standpoint, the model on region was the most accurate since it has the smallest RMSE. But region 3 had the highest mean prediction"
   ]
  },
  {
   "cell_type": "markdown",
   "metadata": {},
   "source": [
    "## Break-even volume for each well <a name=\"step3\"></a>"
   ]
  },
  {
   "cell_type": "markdown",
   "metadata": {},
   "source": [
    "In the instructions for this project, we were told that: \n",
    "* the budget for development of 200 oil wells is 100 USD million\n",
    "* When exploring the region, a study of 500 points is carried with picking the best 200 points for the profit calculation\n",
    "* The revenue from one unit of product is 4,500 dollars\n",
    "\n",
    "We will save this info in variables (they will also come in handy during profit calculation). To find the volume sufficient to develop a new well without losses, we will need to find the cost of developing a new well and divide it by the income per volume"
   ]
  },
  {
   "cell_type": "code",
   "execution_count": 13,
   "metadata": {},
   "outputs": [
    {
     "name": "stdout",
     "output_type": "stream",
     "text": [
      "111.11111111111111\n"
     ]
    }
   ],
   "source": [
    "points = 500\n",
    "points_needed = 200\n",
    "budget_200 = 100000000\n",
    "income_per_volume = 4500\n",
    "well_cost=budget_200/points_needed\n",
    "no_loss_volume=well_cost / income_per_volume\n",
    "print(no_loss_volume)"
   ]
  },
  {
   "cell_type": "markdown",
   "metadata": {},
   "source": [
    "Our result is 111.11 units of product. Let us compare this to the averages of the 3 regions"
   ]
  },
  {
   "cell_type": "code",
   "execution_count": 14,
   "metadata": {},
   "outputs": [
    {
     "name": "stdout",
     "output_type": "stream",
     "text": [
      "Region 0 average production: 92.50000000000001\n",
      "Region 1 average production: 68.82500000000002\n",
      "Region 2 average production: 95.00000000000004\n"
     ]
    }
   ],
   "source": [
    "print('Region 0 average production:', data_0['product'].mean())\n",
    "print('Region 1 average production:', data_1['product'].mean())\n",
    "print('Region 2 average production:', data_2['product'].mean())"
   ]
  },
  {
   "cell_type": "markdown",
   "metadata": {},
   "source": [
    "All of them are lower than our no-loss volume. So on average, the regions are all incurring losses"
   ]
  },
  {
   "cell_type": "markdown",
   "metadata": {},
   "source": [
    "## Profit from selected wells and model predictions <a name=\"step4\"></a>"
   ]
  },
  {
   "cell_type": "markdown",
   "metadata": {},
   "source": [
    "Our instructions are to:\n",
    "* Pick the wells with the highest values of predictions\n",
    "* Summarize the target volume of reserves in accordance with these predictions\n",
    "\n",
    "So let us write our function that will take the target, the predictions, and the number of wells as arguments to calculate profit:"
   ]
  },
  {
   "cell_type": "code",
   "execution_count": 15,
   "metadata": {},
   "outputs": [],
   "source": [
    "def revenue(target, predicted, n):\n",
    "    #creates a function that takes a target, predictions and a number of wells as arguments\n",
    "    predicted = pd.Series(predicted)#makes predictions into a series\n",
    "    target = target.reset_index(drop=True)#resets the index of the target\n",
    "    indices = predicted.sort_values(ascending=False).index \n",
    "    #sorts the prediction values in descending order and gets their indexes\n",
    "    return (target.loc[indices][:n].sum() * income_per_volume) - (well_cost * n)\n",
    "    #returns the profit using target values and the number of wells "
   ]
  },
  {
   "cell_type": "markdown",
   "metadata": {},
   "source": [
    "## Risks and profit for each region <a name=\"step5\"></a>"
   ]
  },
  {
   "cell_type": "markdown",
   "metadata": {},
   "source": [
    "We will use the bootstrapping technique to create samples (1000 in this case) of the target and associate them with their respective prediction values and caclculate the profit for the 200 wells with the most profitable predictions for each sample, storing all profit values in a list. We keep in mind that when exploring the region, a study of 500 points is carried with picking the best 200 points for the profit calculation."
   ]
  },
  {
   "cell_type": "code",
   "execution_count": 16,
   "metadata": {},
   "outputs": [
    {
     "data": {
      "image/png": "[encoded data removed]",
      "text/plain": [
       "<Figure size 432x288 with 1 Axes>"
      ]
     },
     "metadata": {
      "needs_background": "light"
     },
     "output_type": "display_data"
    },
    {
     "data": {
      "image/png": "[encoded data removed]",
      "text/plain": [
       "<Figure size 432x288 with 1 Axes>"
      ]
     },
     "metadata": {
      "needs_background": "light"
     },
     "output_type": "display_data"
    },
    {
     "data": {
      "image/png": "[encoded data removed]",
      "text/plain": [
       "<Figure size 432x288 with 1 Axes>"
      ]
     },
     "metadata": {
      "needs_background": "light"
     },
     "output_type": "display_data"
    }
   ],
   "source": [
    "def rev_bootstr(target, predictions): #creates a function that takes target and prediction as arguments\n",
    "    state = np.random.RandomState(12345) #sets a random state\n",
    "    values = [] #empty list called values\n",
    "    target = target.reset_index(drop=True)#resets the index of the target\n",
    "    \n",
    "    #bootstrapping\n",
    "    for i in range(1000):#loop a 1000 times\n",
    "        target_sample = target.sample(n=points, replace=True, random_state=state)\n",
    "        #creates a sample of 500 target values, repetition allowed, with a changing random state\n",
    "        pred_sample=predictions[target_sample.index]\n",
    "        #prediction sample will simply be predictions associated with the target sample values\n",
    "        values.append(revenue(target_sample, pred_sample, points_needed))\n",
    "        #calculates the revenue using our revenue function for 200 wells\n",
    "    return pd.Series(values) #returns the list as a series\n",
    "\n",
    "revenues0 = rev_bootstr(t_valid0, pred0)#bootstrap for region 0\n",
    "revenues1 = rev_bootstr(t_valid1, pred1)#bootstrap for region 1\n",
    "revenues2 = rev_bootstr(t_valid2, pred2)#bootstrap for region 2\n",
    "\n",
    "plots = [revenues0, revenues1, revenues2] #list of bootstrap variables\n",
    "titles = ['Region 0', 'Region 1', 'Region 2'] #list of titles\n",
    "for i in range(3):#loop from 0 to 2\n",
    "    plt.hist(plots[i], bins=20)#plots a histogram with 20 bins\n",
    "    plt.title(titles[i])#gives it the appropriate title\n",
    "    plt.xlabel('Revenues')#labels the x-axis as 'Revenues'\n",
    "    plt.show()#shows the plot"
   ]
  },
  {
   "cell_type": "markdown",
   "metadata": {},
   "source": [
    "We can see that all regions are generally profitable even though some losses are observed. Now for each region, we can calculate the 95% confidence interval, the average mean, and the risk of loss as a percentage. We want the region to have a loss risk lower than 2.5%. Firstly, region 0:"
   ]
  },
  {
   "cell_type": "code",
   "execution_count": 20,
   "metadata": {},
   "outputs": [
    {
     "name": "stdout",
     "output_type": "stream",
     "text": [
      "Region 0\n",
      "Average profit 3961649.8480237112\n",
      "95% confidence interval: [-1112155.4589049604, 9097669.415534232]\n",
      "Risk of losses 0.069\n"
     ]
    }
   ],
   "source": [
    "conf_interval = [revenues0.quantile(0.025), revenues0.quantile(0.975)]\n",
    "#calculates the 95% confidence interval by getting the required percentiles\n",
    "loss_risk = len(revenues0[revenues0 < 0]) / len(revenues0)\n",
    "#calculates the risk of loss by dividing the number of losses by the total number of values from the \n",
    "#bootstrap result\n",
    "print('Region 0')\n",
    "print('Average profit', revenues0.mean()) \n",
    "print('95% confidence interval:', conf_interval)\n",
    "print('Risk of losses', loss_risk)"
   ]
  },
  {
   "cell_type": "markdown",
   "metadata": {},
   "source": [
    "For region 1:"
   ]
  },
  {
   "cell_type": "code",
   "execution_count": 22,
   "metadata": {},
   "outputs": [
    {
     "name": "stdout",
     "output_type": "stream",
     "text": [
      "Region 1\n",
      "Average profit 4560451.057866608\n",
      "95% confidence interval: [338205.0939898603, 8522894.538660347]\n",
      "Risk of losses 0.015\n"
     ]
    }
   ],
   "source": [
    "conf_interval = [revenues1.quantile(0.025), revenues1.quantile(0.975)]\n",
    "loss_risk = len(revenues1[revenues1 < 0]) / len(revenues1)\n",
    "print('Region 1')\n",
    "print('Average profit', revenues1.mean()) \n",
    "print('95% confidence interval:', conf_interval)\n",
    "print('Risk of losses', loss_risk)"
   ]
  },
  {
   "cell_type": "markdown",
   "metadata": {},
   "source": [
    "For region 2:"
   ]
  },
  {
   "cell_type": "code",
   "execution_count": 23,
   "metadata": {},
   "outputs": [
    {
     "name": "stdout",
     "output_type": "stream",
     "text": [
      "Region 2\n",
      "Average profit 4044038.6656835675\n",
      "95% confidence interval: [-1633504.1339559837, 9503595.749237997]\n",
      "Risk of losses 0.076\n"
     ]
    }
   ],
   "source": [
    "conf_interval = [revenues2.quantile(0.025), revenues2.quantile(0.975)]\n",
    "loss_risk = len(revenues2[revenues2 < 0]) / len(revenues2)\n",
    "print('Region 2')\n",
    "print('Average profit', revenues2.mean()) \n",
    "print('95% confidence interval:', conf_interval)\n",
    "print('Risk of losses', loss_risk)"
   ]
  },
  {
   "cell_type": "markdown",
   "metadata": {},
   "source": [
    "We can conclude that Region 1 is the best for oil development since it has the least risk of loss (1.5%), the greatest 95% confidence interval limits (Lower limit: 4431472.486639005 ; Upper limit: 4689429.62909421), and the greatest average profit of 4560451.057866608"
   ]
  },
  {
   "cell_type": "markdown",
   "metadata": {},
   "source": [
    "## Conclusion <a name=\"step1\"></a>\n",
    "* We trained a Linear Regression models for the datasets from the 3 regions \n",
    "* We established that 111.11 units of volume are sufficient for a well to not incur any loss\n",
    "* We bootstrapped the target values by creating samples of 500 values and used their corresponding prediction values to calculate profit values for their top 200 reserves\n",
    "* Using the bootstraps, we calculated confidence intervals, average profit, and risk of loss. We concluded that  Region 1 is the best for oil development since it has the least risk of loss (1.5%), the greatest confidence interval limits (Lower limit: 4431472.486639005 ; Upper limit: 4689429.62909421), and the greatest average profit of 4560451.057866608 "
   ]
  }
 ],
 "metadata": {
  "kernelspec": {
   "display_name": "Python 3",
   "language": "python",
   "name": "python3"
  },
  "language_info": {
   "codemirror_mode": {
    "name": "ipython",
    "version": 3
   },
   "file_extension": ".py",
   "mimetype": "text/x-python",
   "name": "python",
   "nbconvert_exporter": "python",
   "pygments_lexer": "ipython3",
   "version": "3.7.8"
  },
  "toc": {
   "base_numbering": 1,
   "nav_menu": {},
   "number_sections": true,
   "sideBar": true,
   "skip_h1_title": false,
   "title_cell": "Table of Contents",
   "title_sidebar": "Contents",
   "toc_cell": false,
   "toc_position": {},
   "toc_section_display": true,
   "toc_window_display": false
  }
 },
 "nbformat": 4,
 "nbformat_minor": 2
}
