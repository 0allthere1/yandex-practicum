{
 "cells": [
  {
   "cell_type": "markdown",
   "metadata": {},
   "source": [
    "The Sure Tomorrow insurance company wants to protect its clients' data. Your task is to develop a data transforming algorithm that would make it hard to recover personal information from the transformed data. Prove that the algorithm works correctly\n",
    "\n",
    "The data should be protected in such a way that the quality of machine learning models doesn't suffer. You don't need to pick the best model."
   ]
  },
  {
   "cell_type": "markdown",
   "metadata": {},
   "source": [
    "## Table of Contents\n",
    "1. [Data downloading](#step1)\n",
    "2. [Multiplication of matrices](#step2)\n",
    "3. [Transformation algorithm](#step3)\n",
    "4. [Algorithm test](#step4)\n",
    "5. [Conclusion](#step5)"
   ]
  },
  {
   "cell_type": "code",
   "execution_count": 1,
   "metadata": {},
   "outputs": [],
   "source": [
    "import pandas as pd\n",
    "import numpy as np\n",
    "from sklearn.linear_model import LinearRegression\n",
    "from sklearn.model_selection import train_test_split\n",
    "from sklearn.metrics import r2_score, mean_squared_error"
   ]
  },
  {
   "cell_type": "markdown",
   "metadata": {},
   "source": [
    "## 1. Data downloading <a name=\"step1\"></a>"
   ]
  },
  {
   "cell_type": "code",
   "execution_count": 2,
   "metadata": {},
   "outputs": [
    {
     "data": {
      "text/html": [
       "<div>\n",
       "<style scoped>\n",
       "    .dataframe tbody tr th:only-of-type {\n",
       "        vertical-align: middle;\n",
       "    }\n",
       "\n",
       "    .dataframe tbody tr th {\n",
       "        vertical-align: top;\n",
       "    }\n",
       "\n",
       "    .dataframe thead th {\n",
       "        text-align: right;\n",
       "    }\n",
       "</style>\n",
       "<table border=\"1\" class=\"dataframe\">\n",
       "  <thead>\n",
       "    <tr style=\"text-align: right;\">\n",
       "      <th></th>\n",
       "      <th>Gender</th>\n",
       "      <th>Age</th>\n",
       "      <th>Salary</th>\n",
       "      <th>Family members</th>\n",
       "      <th>Insurance benefits</th>\n",
       "    </tr>\n",
       "  </thead>\n",
       "  <tbody>\n",
       "    <tr>\n",
       "      <td>0</td>\n",
       "      <td>1</td>\n",
       "      <td>41.0</td>\n",
       "      <td>49600.0</td>\n",
       "      <td>1</td>\n",
       "      <td>0</td>\n",
       "    </tr>\n",
       "    <tr>\n",
       "      <td>1</td>\n",
       "      <td>0</td>\n",
       "      <td>46.0</td>\n",
       "      <td>38000.0</td>\n",
       "      <td>1</td>\n",
       "      <td>1</td>\n",
       "    </tr>\n",
       "    <tr>\n",
       "      <td>2</td>\n",
       "      <td>0</td>\n",
       "      <td>29.0</td>\n",
       "      <td>21000.0</td>\n",
       "      <td>0</td>\n",
       "      <td>0</td>\n",
       "    </tr>\n",
       "    <tr>\n",
       "      <td>3</td>\n",
       "      <td>0</td>\n",
       "      <td>21.0</td>\n",
       "      <td>41700.0</td>\n",
       "      <td>2</td>\n",
       "      <td>0</td>\n",
       "    </tr>\n",
       "    <tr>\n",
       "      <td>4</td>\n",
       "      <td>1</td>\n",
       "      <td>28.0</td>\n",
       "      <td>26100.0</td>\n",
       "      <td>0</td>\n",
       "      <td>0</td>\n",
       "    </tr>\n",
       "  </tbody>\n",
       "</table>\n",
       "</div>"
      ],
      "text/plain": [
       "   Gender   Age   Salary  Family members  Insurance benefits\n",
       "0       1  41.0  49600.0               1                   0\n",
       "1       0  46.0  38000.0               1                   1\n",
       "2       0  29.0  21000.0               0                   0\n",
       "3       0  21.0  41700.0               2                   0\n",
       "4       1  28.0  26100.0               0                   0"
      ]
     },
     "execution_count": 2,
     "metadata": {},
     "output_type": "execute_result"
    }
   ],
   "source": [
    "data=pd.read_csv('/datasets/insurance_us.csv') #saves the csv file as a dataframe\n",
    "data.head() #first 5 rows"
   ]
  },
  {
   "cell_type": "code",
   "execution_count": 3,
   "metadata": {},
   "outputs": [
    {
     "name": "stdout",
     "output_type": "stream",
     "text": [
      "<class 'pandas.core.frame.DataFrame'>\n",
      "RangeIndex: 5000 entries, 0 to 4999\n",
      "Data columns (total 5 columns):\n",
      "Gender                5000 non-null int64\n",
      "Age                   5000 non-null float64\n",
      "Salary                5000 non-null float64\n",
      "Family members        5000 non-null int64\n",
      "Insurance benefits    5000 non-null int64\n",
      "dtypes: float64(2), int64(3)\n",
      "memory usage: 195.4 KB\n"
     ]
    }
   ],
   "source": [
    "data.info() #general info"
   ]
  },
  {
   "cell_type": "markdown",
   "metadata": {},
   "source": [
    "There are no missing values - a welcome sight! We can check for duplicate rows"
   ]
  },
  {
   "cell_type": "code",
   "execution_count": 4,
   "metadata": {},
   "outputs": [
    {
     "data": {
      "text/plain": [
       "153"
      ]
     },
     "execution_count": 4,
     "metadata": {},
     "output_type": "execute_result"
    }
   ],
   "source": [
    "data.duplicated().sum() #tells us the number of duplicate rows"
   ]
  },
  {
   "cell_type": "markdown",
   "metadata": {},
   "source": [
    "There are 153 duplicate rows. We don't necessarily need to remove them given the task is to see if a matrix transformation changes machine learning quality or not"
   ]
  },
  {
   "cell_type": "markdown",
   "metadata": {},
   "source": [
    "## 2. Multiplication of matrices <a name=\"step2\"></a>"
   ]
  },
  {
   "cell_type": "markdown",
   "metadata": {},
   "source": [
    "In this task, you can write formulas in *Jupyter Notebook.*\n",
    "\n",
    "To write the formula in-between the text, frame it with dollar signs \\\\$; if it should be outside the text —  with double signs \\\\$\\\\$. These formulas are written in markup language *LaTeX.* \n",
    "\n",
    "For example, we wrote down linear regression formulas. You can copy and edit them to solve the task.\n",
    "\n",
    "You don't have to use *LaTeX*."
   ]
  },
  {
   "cell_type": "markdown",
   "metadata": {},
   "source": [
    "Denote:\n",
    "\n",
    "- $X$ — feature matrix (zero column consists of unities)\n",
    "\n",
    "- $y$ — target vector\n",
    "\n",
    "- $P$ — matrix by which the features are multiplied\n",
    "\n",
    "- $w$ — linear regression weight vector (zero element is equal to the shift)"
   ]
  },
  {
   "cell_type": "markdown",
   "metadata": {},
   "source": [
    "Predictions:\n",
    "\n",
    "$$\n",
    "a = Xw\n",
    "$$\n",
    "\n",
    "Training objective:\n",
    "\n",
    "$$\n",
    "\\min_w d_2(Xw, y)\n",
    "$$\n",
    "\n",
    "Training formula:\n",
    "\n",
    "$$\n",
    "w = (X^T X)^{-1} X^T y\n",
    "$$"
   ]
  },
  {
   "cell_type": "markdown",
   "metadata": {},
   "source": [
    "** Answer:** ...\n",
    "\n",
    "Multiplying the feature matrix (X) by the transformation matrix (P), we get the transformed feature matrix (X'):\n",
    "$$ X'=XP $$\n",
    "\n",
    "We will call the new predictions a'. The new prediction equation becomes: $$ a'=X'w'=XPw' $$\n",
    "\n",
    "The new weight vector (w') becomes: $$ w'=(X'^T X')^{-1}X'^Ty=(X^TP^TXP)^{-1}X^TP^Ty $$\n",
    "\n",
    "\n",
    "** Justification:** ...\n",
    "\n",
    "Substituting the value of w' in a': $$ a'=XP(X^TP^TXP)^{-1}X^TP^Ty $$\n",
    "\n",
    "Rearranging the terms, we get: $$ a'=X(PP^{-1})(X^TX)^{-1}(P^T)^{-1}P^TX^Ty $$\n",
    "\n",
    "Remembering that any matrix multiplied by its inverse gives the identity matrix, we simplify:\n",
    "$$ a'=X(X^TX)^{-1}X^Ty=Xw=a $$\n",
    "\n",
    "This proves that the predictions won't change and the machine learning model quality won't suffer\n",
    "\n",
    "The relation between w' and w:\n",
    "$$ w'=(X^TP^TXP)^{-1}X^TP^Ty=(P^TP)^{-1}P^T(X^TX)^{-1}X^Ty=P^{-1}w $$"
   ]
  },
  {
   "cell_type": "markdown",
   "metadata": {},
   "source": [
    "## 3. Transformation algorithm <a name=\"step3\"></a>"
   ]
  },
  {
   "cell_type": "markdown",
   "metadata": {},
   "source": [
    "** Algorithm**\n",
    "1. Create a random transformation matrix. It should be a square matrix, with its shape being the number of feature columns. i.e t_matrix=np.random.normal(size=(features_columns, features_columns))\n",
    "\n",
    "2. Check if the random matrix is invertible using: np.linalg.inv(t_matrix). If we receive an error from this operation, the matrix is not invertible, but such a case is quite rare.\n",
    "\n",
    "3. Multiply the feature matrix by the random invertible matrix\n",
    "\n",
    "4. Get the r2_scores for the models before and after transformation\n"
   ]
  },
  {
   "cell_type": "markdown",
   "metadata": {},
   "source": [
    "** Justification **\n",
    "\n",
    "The fact that the data obfuscation won't affect model model quality will be proven if the r2 scores for the models before and after transformation are the same (or at least have a very insignificant difference)"
   ]
  },
  {
   "cell_type": "markdown",
   "metadata": {},
   "source": [
    "## 4. Algorithm test <a name=\"step4\"></a>"
   ]
  },
  {
   "cell_type": "markdown",
   "metadata": {},
   "source": [
    "Let us first of all split the data accordingly"
   ]
  },
  {
   "cell_type": "code",
   "execution_count": 5,
   "metadata": {},
   "outputs": [],
   "source": [
    "features=data.drop('Insurance benefits', axis=1) \n",
    "#defines the features as all columns except 'Insurance benefits'\n",
    "\n",
    "target=data['Insurance benefits'] #defines the target as the 'Insurance benefits' column\n",
    "x_train, x_test, y_train, y_test = train_test_split(features, target, test_size=0.2, random_state=12345)\n",
    "#splits our data into training and test sets with the test set making up 20% of the data"
   ]
  },
  {
   "cell_type": "markdown",
   "metadata": {},
   "source": [
    "We can now create our transformation matrix whose number of rows and number of columns each equal the number of our features"
   ]
  },
  {
   "cell_type": "code",
   "execution_count": 6,
   "metadata": {},
   "outputs": [
    {
     "data": {
      "text/plain": [
       "array([[ 0.37919105, -1.78908388,  0.65317713,  1.23380321],\n",
       "       [-1.40882454,  1.44913229, -0.17634509,  1.20112431],\n",
       "       [-0.83140365, -0.50702834,  1.29321238, -0.98499947],\n",
       "       [-1.42193691,  0.41360468, -0.27213911,  0.25784954]])"
      ]
     },
     "execution_count": 6,
     "metadata": {},
     "output_type": "execute_result"
    }
   ],
   "source": [
    "t_matrix=np.random.normal(size=(x_train.shape[1], x_train.shape[1]))\n",
    "#creates a random matrix whose number of rows and columns = the number of columns of our data features\n",
    "t_matrix"
   ]
  },
  {
   "cell_type": "markdown",
   "metadata": {},
   "source": [
    "Let us check if our random transformation matrix is invertible by calculating its inverse"
   ]
  },
  {
   "cell_type": "code",
   "execution_count": 7,
   "metadata": {},
   "outputs": [
    {
     "data": {
      "text/plain": [
       "array([[-0.04866213,  0.11500852, -0.1197118 , -0.76019564],\n",
       "       [-0.30724436,  0.52985255,  0.08879559, -0.65881865],\n",
       "       [ 0.09808786,  0.59858934,  0.61088707, -0.92409659],\n",
       "       [ 0.3280082 ,  0.41607574, -0.15785423, -0.23247118]])"
      ]
     },
     "execution_count": 7,
     "metadata": {},
     "output_type": "execute_result"
    }
   ],
   "source": [
    "np.linalg.inv(t_matrix) #calculates the inverse of the matrix"
   ]
  },
  {
   "cell_type": "markdown",
   "metadata": {},
   "source": [
    "Our matrix is invertible so we can go on and transform our data by performing a matrix multiplication of the features by the transformation matrix"
   ]
  },
  {
   "cell_type": "code",
   "execution_count": 8,
   "metadata": {},
   "outputs": [],
   "source": [
    "x_train_trans=x_train@t_matrix #gets the transformed version of the training features\n",
    "x_test_trans=x_test@t_matrix #gets the transformed version of the test features"
   ]
  },
  {
   "cell_type": "markdown",
   "metadata": {},
   "source": [
    "We can now train our Linear Regression model and compare the r2 scores for the models before and after transformation"
   ]
  },
  {
   "cell_type": "code",
   "execution_count": 9,
   "metadata": {
    "scrolled": true
   },
   "outputs": [
    {
     "name": "stdout",
     "output_type": "stream",
     "text": [
      "-----Before transformation-----\n",
      "R2 score: 0.41, RMSE: 0.33\n",
      "-----After transformation-----\n",
      "R2 score: 0.41, RMSE: 0.33\n"
     ]
    }
   ],
   "source": [
    "model=LinearRegression() #Linear Regression model\n",
    "#Before transformation\n",
    "model.fit(x_train, y_train) #trains the model with the original training features and target\n",
    "pred1=model.predict(x_test) #gets predictions for the original test features\n",
    "r2_before=r2_score(y_test, pred1) #calculates the r2 score\n",
    "rmse_before=(mean_squared_error(y_test, pred1))**0.5\n",
    "\n",
    "#After transformation\n",
    "model.fit(x_train_trans, y_train) #trains the model with the transformed training features and target\n",
    "pred2=model.predict(x_test_trans) #gets predictions for the transformed test features\n",
    "r2_after=r2_score(y_test, pred2) #calculates the r2 score\n",
    "rmse_after=(mean_squared_error(y_test, pred2))**0.5\n",
    "\n",
    "print('-----Before transformation-----')\n",
    "print('R2 score: {:.2f}, RMSE: {:.2f}'.format(r2_before, rmse_before))\n",
    "print('-----After transformation-----')\n",
    "print('R2 score: {:.2f}, RMSE: {:.2f}'.format(r2_after, rmse_after))"
   ]
  },
  {
   "cell_type": "markdown",
   "metadata": {},
   "source": [
    "The differences between the r2 scores and RMSEs are very insignificant. So obfuscation did not affect our model"
   ]
  },
  {
   "cell_type": "markdown",
   "metadata": {},
   "source": [
    "## Conclusion <a name=\"step5\"></a>\n",
    "1. We theoretically proved that the transformation doesn't affect the prediction formula\n",
    "2. We trained Linear Regression models for the scenario without transformation and with transformation\n",
    "3. We got the the r2 scores and RMSEs for both scenarios and saw that the differences between them are insignificant, proving that the transformation doesn't affect model quality"
   ]
  },
  {
   "cell_type": "markdown",
   "metadata": {},
   "source": [
    "<div class=\"alert alert-success\" role=\"alert\">\n",
    "Reviewer's comment v. 1:\n",
    "    \n",
    "Yes, you proved this algorithm :)\n",
    "</div>"
   ]
  },
  {
   "cell_type": "markdown",
   "metadata": {},
   "source": [
    "## Checklist"
   ]
  },
  {
   "cell_type": "markdown",
   "metadata": {},
   "source": [
    "Type 'x' to check. Then press Shift+Enter."
   ]
  },
  {
   "cell_type": "markdown",
   "metadata": {},
   "source": [
    "- [x]  Jupyter Notebook is open\n",
    "- [ ]  Code is error free\n",
    "- [ ]  The cells with the code have been arranged in order of execution\n",
    "- [ ]  Step 1 performed: the data was downloaded\n",
    "- [ ]  Step 2 performed: the answer to the matrix multiplication problem was provided\n",
    "    - [ ]  The correct answer was chosen\n",
    "    - [ ]  The choice was justified\n",
    "- [ ]  Step 3 performed: the transform algorithm was proposed\n",
    "    - [ ]  The algorithm was described\n",
    "    - [ ]  The algorithm was justified\n",
    "- [ ]  Step 4 performed: the algorithm was tested\n",
    "    - [ ]  The algorithm was realized\n",
    "    - [ ]  Model quality was assessed before and after the transformation"
   ]
  },
  {
   "cell_type": "code",
   "execution_count": null,
   "metadata": {},
   "outputs": [],
   "source": []
  }
 ],
 "metadata": {
  "kernelspec": {
   "display_name": "Python 3",
   "language": "python",
   "name": "python3"
  },
  "language_info": {
   "codemirror_mode": {
    "name": "ipython",
    "version": 3
   },
   "file_extension": ".py",
   "mimetype": "text/x-python",
   "name": "python",
   "nbconvert_exporter": "python",
   "pygments_lexer": "ipython3",
   "version": "3.7.8"
  },
  "toc": {
   "base_numbering": 1,
   "nav_menu": {},
   "number_sections": true,
   "sideBar": true,
   "skip_h1_title": true,
   "title_cell": "Table of Contents",
   "title_sidebar": "Contents",
   "toc_cell": false,
   "toc_position": {},
   "toc_section_display": true,
   "toc_window_display": false
  }
 },
 "nbformat": 4,
 "nbformat_minor": 2
}
